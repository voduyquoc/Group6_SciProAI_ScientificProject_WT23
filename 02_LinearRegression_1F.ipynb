{
 "cells": [
  {
   "cell_type": "code",
   "execution_count": 1,
   "metadata": {},
   "outputs": [],
   "source": [
    "import pandas as pd \n",
    "import numpy as np \n",
    "import matplotlib.pyplot as plt \n",
    "import math as m \n",
    "\n",
    "from sklearn.linear_model import LinearRegression\n",
    "from sklearn.metrics import confusion_matrix, accuracy_score, mean_squared_error\n",
    "\n",
    "import warnings\n",
    "warnings.filterwarnings('ignore')"
   ]
  },
  {
   "cell_type": "code",
   "execution_count": 2,
   "metadata": {},
   "outputs": [],
   "source": [
    "SIE = pd.read_csv(\"data/siemens.csv\")\n",
    "DTE = pd.read_csv(\"data/deutsche-telekom.csv\")\n",
    "ALV = pd.read_csv(\"data/allianz.csv\")\n",
    "MRK = pd.read_csv(\"data/merck-kgaa.csv\")\n",
    "DHL = pd.read_csv(\"data/deutsche-post.csv\")"
   ]
  },
  {
   "cell_type": "code",
   "execution_count": 3,
   "metadata": {},
   "outputs": [],
   "source": [
    "# Change Dtype of Date column\n",
    "SIE[\"Date\"] = pd.to_datetime(SIE[\"Date\"])\n",
    "DTE[\"Date\"] = pd.to_datetime(DTE[\"Date\"])\n",
    "ALV[\"Date\"] = pd.to_datetime(ALV[\"Date\"])\n",
    "MRK[\"Date\"] = pd.to_datetime(MRK[\"Date\"])\n",
    "DHL[\"Date\"] = pd.to_datetime(DHL[\"Date\"])"
   ]
  },
  {
   "cell_type": "code",
   "execution_count": 4,
   "metadata": {},
   "outputs": [],
   "source": [
    "#set indext as date\n",
    "SIE.set_index('Date', inplace=True)\n",
    "DTE.set_index('Date', inplace=True)\n",
    "ALV.set_index('Date', inplace=True)\n",
    "MRK.set_index('Date', inplace=True)\n",
    "DHL.set_index('Date', inplace=True)"
   ]
  },
  {
   "cell_type": "code",
   "execution_count": 5,
   "metadata": {},
   "outputs": [],
   "source": [
    "# Set date variable\n",
    "start_date = '2010-01-04' # Start date of training set\n",
    "end_date = '2020-10-07' # End date of training set\n",
    "test_start_date = '2020-10-08' # End date of test set\n",
    "test_end_date = '2023-06-30' # End date of test set"
   ]
  },
  {
   "cell_type": "code",
   "execution_count": 6,
   "metadata": {},
   "outputs": [],
   "source": [
    "SIE.drop(columns=['High','Low','Open','Volume', 'Dividends', 'Stock Splits', 'Ticker', 'ps-ratio'],inplace=True)\n",
    "DTE.drop(columns=['High','Low','Open','Volume', 'Dividends', 'Stock Splits', 'Ticker', 'ps-ratio'],inplace=True)\n",
    "ALV.drop(columns=['High','Low','Open','Volume', 'Dividends', 'Stock Splits', 'Ticker', 'ps-ratio'],inplace=True)\n",
    "MRK.drop(columns=['High','Low','Open','Volume', 'Dividends', 'Stock Splits', 'Ticker', 'ps-ratio'],inplace=True)\n",
    "DHL.drop(columns=['High','Low','Open','Volume', 'Dividends', 'Stock Splits', 'Ticker', 'ps-ratio'],inplace=True)"
   ]
  },
  {
   "cell_type": "code",
   "execution_count": 7,
   "metadata": {},
   "outputs": [],
   "source": [
    "# Backup data\n",
    "SIE_base = SIE.copy()\n",
    "DTE_base = DTE.copy()\n",
    "ALV_base = ALV.copy()\n",
    "MRK_base = MRK.copy()\n",
    "DHL_base = DHL.copy()"
   ]
  },
  {
   "cell_type": "markdown",
   "metadata": {},
   "source": [
    "# Siemens 1 Features"
   ]
  },
  {
   "cell_type": "code",
   "execution_count": 8,
   "metadata": {},
   "outputs": [
    {
     "data": {
      "text/html": [
       "<div>\n",
       "<style scoped>\n",
       "    .dataframe tbody tr th:only-of-type {\n",
       "        vertical-align: middle;\n",
       "    }\n",
       "\n",
       "    .dataframe tbody tr th {\n",
       "        vertical-align: top;\n",
       "    }\n",
       "\n",
       "    .dataframe thead th {\n",
       "        text-align: right;\n",
       "    }\n",
       "</style>\n",
       "<table border=\"1\" class=\"dataframe\">\n",
       "  <thead>\n",
       "    <tr style=\"text-align: right;\">\n",
       "      <th></th>\n",
       "      <th>Close</th>\n",
       "      <th>pe-ratio</th>\n",
       "      <th>pb-ratio</th>\n",
       "      <th>Target</th>\n",
       "    </tr>\n",
       "    <tr>\n",
       "      <th>Date</th>\n",
       "      <th></th>\n",
       "      <th></th>\n",
       "      <th></th>\n",
       "      <th></th>\n",
       "    </tr>\n",
       "  </thead>\n",
       "  <tbody>\n",
       "    <tr>\n",
       "      <th>2010-01-04</th>\n",
       "      <td>39.892437</td>\n",
       "      <td>21.092000</td>\n",
       "      <td>1.938798</td>\n",
       "      <td>39.916805</td>\n",
       "    </tr>\n",
       "    <tr>\n",
       "      <th>2010-01-05</th>\n",
       "      <td>39.916805</td>\n",
       "      <td>21.092000</td>\n",
       "      <td>1.938798</td>\n",
       "      <td>40.063042</td>\n",
       "    </tr>\n",
       "    <tr>\n",
       "      <th>2010-01-06</th>\n",
       "      <td>40.063042</td>\n",
       "      <td>21.092000</td>\n",
       "      <td>1.938798</td>\n",
       "      <td>40.538315</td>\n",
       "    </tr>\n",
       "    <tr>\n",
       "      <th>2010-01-07</th>\n",
       "      <td>40.538315</td>\n",
       "      <td>21.092000</td>\n",
       "      <td>1.938798</td>\n",
       "      <td>40.794235</td>\n",
       "    </tr>\n",
       "    <tr>\n",
       "      <th>2010-01-08</th>\n",
       "      <td>40.794235</td>\n",
       "      <td>21.092000</td>\n",
       "      <td>1.938798</td>\n",
       "      <td>40.897816</td>\n",
       "    </tr>\n",
       "    <tr>\n",
       "      <th>...</th>\n",
       "      <td>...</td>\n",
       "      <td>...</td>\n",
       "      <td>...</td>\n",
       "      <td>...</td>\n",
       "    </tr>\n",
       "    <tr>\n",
       "      <th>2023-06-23</th>\n",
       "      <td>156.979996</td>\n",
       "      <td>19.691292</td>\n",
       "      <td>1.998793</td>\n",
       "      <td>155.479996</td>\n",
       "    </tr>\n",
       "    <tr>\n",
       "      <th>2023-06-26</th>\n",
       "      <td>155.479996</td>\n",
       "      <td>19.691292</td>\n",
       "      <td>1.998793</td>\n",
       "      <td>157.559998</td>\n",
       "    </tr>\n",
       "    <tr>\n",
       "      <th>2023-06-27</th>\n",
       "      <td>157.559998</td>\n",
       "      <td>19.691292</td>\n",
       "      <td>1.998793</td>\n",
       "      <td>152.720001</td>\n",
       "    </tr>\n",
       "    <tr>\n",
       "      <th>2023-06-28</th>\n",
       "      <td>152.720001</td>\n",
       "      <td>19.691292</td>\n",
       "      <td>1.998793</td>\n",
       "      <td>150.580002</td>\n",
       "    </tr>\n",
       "    <tr>\n",
       "      <th>2023-06-29</th>\n",
       "      <td>150.580002</td>\n",
       "      <td>19.691292</td>\n",
       "      <td>1.998793</td>\n",
       "      <td>152.539993</td>\n",
       "    </tr>\n",
       "  </tbody>\n",
       "</table>\n",
       "<p>3448 rows × 4 columns</p>\n",
       "</div>"
      ],
      "text/plain": [
       "                 Close   pe-ratio  pb-ratio      Target\n",
       "Date                                                   \n",
       "2010-01-04   39.892437  21.092000  1.938798   39.916805\n",
       "2010-01-05   39.916805  21.092000  1.938798   40.063042\n",
       "2010-01-06   40.063042  21.092000  1.938798   40.538315\n",
       "2010-01-07   40.538315  21.092000  1.938798   40.794235\n",
       "2010-01-08   40.794235  21.092000  1.938798   40.897816\n",
       "...                ...        ...       ...         ...\n",
       "2023-06-23  156.979996  19.691292  1.998793  155.479996\n",
       "2023-06-26  155.479996  19.691292  1.998793  157.559998\n",
       "2023-06-27  157.559998  19.691292  1.998793  152.720001\n",
       "2023-06-28  152.720001  19.691292  1.998793  150.580002\n",
       "2023-06-29  150.580002  19.691292  1.998793  152.539993\n",
       "\n",
       "[3448 rows x 4 columns]"
      ]
     },
     "execution_count": 8,
     "metadata": {},
     "output_type": "execute_result"
    }
   ],
   "source": [
    "#Set next day value as target \n",
    "SIE['Target'] = SIE.Close.shift(-1)\n",
    "SIE.dropna(inplace=True)\n",
    "SIE"
   ]
  },
  {
   "cell_type": "code",
   "execution_count": 9,
   "metadata": {},
   "outputs": [],
   "source": [
    "#split train and test data\n",
    "SIE_train = SIE.loc[:end_date]\n",
    "SIE_test = SIE.loc[test_start_date:]"
   ]
  },
  {
   "cell_type": "code",
   "execution_count": 10,
   "metadata": {},
   "outputs": [
    {
     "data": {
      "text/plain": [
       "True"
      ]
     },
     "execution_count": 10,
     "metadata": {},
     "output_type": "execute_result"
    }
   ],
   "source": [
    "# Reconcile length of data set and subsets\n",
    "SIE.shape[0] == SIE_train.shape[0] + SIE_test.shape[0]"
   ]
  },
  {
   "cell_type": "code",
   "execution_count": 11,
   "metadata": {},
   "outputs": [],
   "source": [
    "#set variables for regression\n",
    "SIE_X_train = SIE_train[['Close']]\n",
    "SIE_y_train = SIE_train['Target']\n",
    "SIE_X_test = SIE_test[['Close']]\n",
    "SIE_y_test = SIE_test['Target']"
   ]
  },
  {
   "cell_type": "code",
   "execution_count": 12,
   "metadata": {},
   "outputs": [],
   "source": [
    "#creating regressor model\n",
    "model1 = LinearRegression()"
   ]
  },
  {
   "cell_type": "code",
   "execution_count": 13,
   "metadata": {},
   "outputs": [],
   "source": [
    "# fit liner regression model\n",
    "model1 = model1.fit(SIE_X_train, SIE_y_train)"
   ]
  },
  {
   "cell_type": "code",
   "execution_count": 14,
   "metadata": {},
   "outputs": [
    {
     "data": {
      "text/plain": [
       "0.9967533332202817"
      ]
     },
     "execution_count": 14,
     "metadata": {},
     "output_type": "execute_result"
    }
   ],
   "source": [
    "model1.score(SIE_X_train, SIE_y_train)"
   ]
  },
  {
   "cell_type": "code",
   "execution_count": 15,
   "metadata": {},
   "outputs": [
    {
     "data": {
      "text/plain": [
       "array([0.99823649])"
      ]
     },
     "execution_count": 15,
     "metadata": {},
     "output_type": "execute_result"
    }
   ],
   "source": [
    "model1.coef_"
   ]
  },
  {
   "cell_type": "code",
   "execution_count": 16,
   "metadata": {},
   "outputs": [
    {
     "data": {
      "text/plain": [
       "0.1516030319741759"
      ]
     },
     "execution_count": 16,
     "metadata": {},
     "output_type": "execute_result"
    }
   ],
   "source": [
    "model1.intercept_"
   ]
  },
  {
   "cell_type": "code",
   "execution_count": 17,
   "metadata": {},
   "outputs": [],
   "source": [
    "pred = model1.predict(SIE_X_test)"
   ]
  },
  {
   "cell_type": "code",
   "execution_count": 18,
   "metadata": {},
   "outputs": [],
   "source": [
    "SIE_test['Predicted_Close'] = pred"
   ]
  },
  {
   "cell_type": "code",
   "execution_count": 19,
   "metadata": {},
   "outputs": [
    {
     "data": {
      "text/html": [
       "<div>\n",
       "<style scoped>\n",
       "    .dataframe tbody tr th:only-of-type {\n",
       "        vertical-align: middle;\n",
       "    }\n",
       "\n",
       "    .dataframe tbody tr th {\n",
       "        vertical-align: top;\n",
       "    }\n",
       "\n",
       "    .dataframe thead th {\n",
       "        text-align: right;\n",
       "    }\n",
       "</style>\n",
       "<table border=\"1\" class=\"dataframe\">\n",
       "  <thead>\n",
       "    <tr style=\"text-align: right;\">\n",
       "      <th></th>\n",
       "      <th>Close</th>\n",
       "      <th>pe-ratio</th>\n",
       "      <th>pb-ratio</th>\n",
       "      <th>Target</th>\n",
       "      <th>Predicted_Close</th>\n",
       "    </tr>\n",
       "    <tr>\n",
       "      <th>Date</th>\n",
       "      <th></th>\n",
       "      <th></th>\n",
       "      <th></th>\n",
       "      <th></th>\n",
       "      <th></th>\n",
       "    </tr>\n",
       "  </thead>\n",
       "  <tbody>\n",
       "    <tr>\n",
       "      <th>2020-10-08</th>\n",
       "      <td>102.015335</td>\n",
       "      <td>21.575999</td>\n",
       "      <td>2.165320</td>\n",
       "      <td>102.678017</td>\n",
       "      <td>101.987033</td>\n",
       "    </tr>\n",
       "    <tr>\n",
       "      <th>2020-10-09</th>\n",
       "      <td>102.678017</td>\n",
       "      <td>21.575999</td>\n",
       "      <td>2.165320</td>\n",
       "      <td>103.487961</td>\n",
       "      <td>102.648546</td>\n",
       "    </tr>\n",
       "    <tr>\n",
       "      <th>2020-10-12</th>\n",
       "      <td>103.487961</td>\n",
       "      <td>21.575999</td>\n",
       "      <td>2.165320</td>\n",
       "      <td>102.383484</td>\n",
       "      <td>103.457061</td>\n",
       "    </tr>\n",
       "    <tr>\n",
       "      <th>2020-10-13</th>\n",
       "      <td>102.383484</td>\n",
       "      <td>21.575999</td>\n",
       "      <td>2.165320</td>\n",
       "      <td>103.451141</td>\n",
       "      <td>102.354532</td>\n",
       "    </tr>\n",
       "    <tr>\n",
       "      <th>2020-10-14</th>\n",
       "      <td>103.451141</td>\n",
       "      <td>21.575999</td>\n",
       "      <td>2.165320</td>\n",
       "      <td>100.634758</td>\n",
       "      <td>103.420307</td>\n",
       "    </tr>\n",
       "    <tr>\n",
       "      <th>...</th>\n",
       "      <td>...</td>\n",
       "      <td>...</td>\n",
       "      <td>...</td>\n",
       "      <td>...</td>\n",
       "      <td>...</td>\n",
       "    </tr>\n",
       "    <tr>\n",
       "      <th>2023-06-23</th>\n",
       "      <td>156.979996</td>\n",
       "      <td>19.691292</td>\n",
       "      <td>1.998793</td>\n",
       "      <td>155.479996</td>\n",
       "      <td>156.854762</td>\n",
       "    </tr>\n",
       "    <tr>\n",
       "      <th>2023-06-26</th>\n",
       "      <td>155.479996</td>\n",
       "      <td>19.691292</td>\n",
       "      <td>1.998793</td>\n",
       "      <td>157.559998</td>\n",
       "      <td>155.357408</td>\n",
       "    </tr>\n",
       "    <tr>\n",
       "      <th>2023-06-27</th>\n",
       "      <td>157.559998</td>\n",
       "      <td>19.691292</td>\n",
       "      <td>1.998793</td>\n",
       "      <td>152.720001</td>\n",
       "      <td>157.433741</td>\n",
       "    </tr>\n",
       "    <tr>\n",
       "      <th>2023-06-28</th>\n",
       "      <td>152.720001</td>\n",
       "      <td>19.691292</td>\n",
       "      <td>1.998793</td>\n",
       "      <td>150.580002</td>\n",
       "      <td>152.602280</td>\n",
       "    </tr>\n",
       "    <tr>\n",
       "      <th>2023-06-29</th>\n",
       "      <td>150.580002</td>\n",
       "      <td>19.691292</td>\n",
       "      <td>1.998793</td>\n",
       "      <td>152.539993</td>\n",
       "      <td>150.466055</td>\n",
       "    </tr>\n",
       "  </tbody>\n",
       "</table>\n",
       "<p>695 rows × 5 columns</p>\n",
       "</div>"
      ],
      "text/plain": [
       "                 Close   pe-ratio  pb-ratio      Target  Predicted_Close\n",
       "Date                                                                    \n",
       "2020-10-08  102.015335  21.575999  2.165320  102.678017       101.987033\n",
       "2020-10-09  102.678017  21.575999  2.165320  103.487961       102.648546\n",
       "2020-10-12  103.487961  21.575999  2.165320  102.383484       103.457061\n",
       "2020-10-13  102.383484  21.575999  2.165320  103.451141       102.354532\n",
       "2020-10-14  103.451141  21.575999  2.165320  100.634758       103.420307\n",
       "...                ...        ...       ...         ...              ...\n",
       "2023-06-23  156.979996  19.691292  1.998793  155.479996       156.854762\n",
       "2023-06-26  155.479996  19.691292  1.998793  157.559998       155.357408\n",
       "2023-06-27  157.559998  19.691292  1.998793  152.720001       157.433741\n",
       "2023-06-28  152.720001  19.691292  1.998793  150.580002       152.602280\n",
       "2023-06-29  150.580002  19.691292  1.998793  152.539993       150.466055\n",
       "\n",
       "[695 rows x 5 columns]"
      ]
     },
     "execution_count": 19,
     "metadata": {},
     "output_type": "execute_result"
    }
   ],
   "source": [
    "SIE_test"
   ]
  },
  {
   "cell_type": "code",
   "execution_count": 20,
   "metadata": {},
   "outputs": [],
   "source": [
    "#again return to previous shape\n",
    "SIE_y_test = np.array(SIE_test['Target'])"
   ]
  },
  {
   "cell_type": "code",
   "execution_count": 21,
   "metadata": {},
   "outputs": [
    {
     "name": "stdout",
     "output_type": "stream",
     "text": [
      "Root Mean Squared Error (RMSE): 2.3609705028953902\n",
      "Mean Absolute Percentage Error (MAPE): 0.014107109723454043\n"
     ]
    }
   ],
   "source": [
    "#checking mse and rmse \n",
    "SIE_mse = mean_squared_error(SIE_y_test, SIE_test['Predicted_Close'])\n",
    "SIE_rmse = m.sqrt(SIE_mse)\n",
    "SIE_mape = np.mean(np.abs(SIE_test['Predicted_Close'] - SIE_y_test)/np.abs(SIE_y_test))\n",
    "\n",
    "print(f'Root Mean Squared Error (RMSE): {SIE_rmse}')\n",
    "print(f'Mean Absolute Percentage Error (MAPE): {SIE_mape}')"
   ]
  },
  {
   "cell_type": "code",
   "execution_count": 22,
   "metadata": {},
   "outputs": [
    {
     "data": {
      "text/plain": [
       "<matplotlib.legend.Legend at 0x1bd61f7fee0>"
      ]
     },
     "execution_count": 22,
     "metadata": {},
     "output_type": "execute_result"
    },
    {
     "data": {
      "image/png": "[encoded data removed]",
      "text/plain": [
       "<Figure size 1440x360 with 1 Axes>"
      ]
     },
     "metadata": {
      "needs_background": "light"
     },
     "output_type": "display_data"
    }
   ],
   "source": [
    "#plotting predicted data\n",
    "plt.figure(figsize=(20, 5))\n",
    "plt.plot(SIE_test['Target'], label = 'True Closing Price')\n",
    "plt.plot(SIE_test['Predicted_Close'], label = 'Predictions')\n",
    "plt.xlabel('Time')\n",
    "plt.ylabel('Closing Price')\n",
    "plt.legend(labels = ['True Closing Price', 'Predictions'])"
   ]
  },
  {
   "cell_type": "code",
   "execution_count": 23,
   "metadata": {},
   "outputs": [
    {
     "data": {
      "text/plain": [
       "695"
      ]
     },
     "execution_count": 23,
     "metadata": {},
     "output_type": "execute_result"
    }
   ],
   "source": [
    "len(SIE_test)"
   ]
  },
  {
   "cell_type": "code",
   "execution_count": 24,
   "metadata": {},
   "outputs": [
    {
     "data": {
      "text/html": [
       "<div>\n",
       "<style scoped>\n",
       "    .dataframe tbody tr th:only-of-type {\n",
       "        vertical-align: middle;\n",
       "    }\n",
       "\n",
       "    .dataframe tbody tr th {\n",
       "        vertical-align: top;\n",
       "    }\n",
       "\n",
       "    .dataframe thead th {\n",
       "        text-align: right;\n",
       "    }\n",
       "</style>\n",
       "<table border=\"1\" class=\"dataframe\">\n",
       "  <thead>\n",
       "    <tr style=\"text-align: right;\">\n",
       "      <th></th>\n",
       "      <th>SIE</th>\n",
       "      <th>Forecasted</th>\n",
       "    </tr>\n",
       "    <tr>\n",
       "      <th>Date</th>\n",
       "      <th></th>\n",
       "      <th></th>\n",
       "    </tr>\n",
       "  </thead>\n",
       "  <tbody>\n",
       "    <tr>\n",
       "      <th>2010-01-04</th>\n",
       "      <td>39.892437</td>\n",
       "      <td>N</td>\n",
       "    </tr>\n",
       "    <tr>\n",
       "      <th>2010-01-05</th>\n",
       "      <td>39.916805</td>\n",
       "      <td>N</td>\n",
       "    </tr>\n",
       "    <tr>\n",
       "      <th>2010-01-06</th>\n",
       "      <td>40.063042</td>\n",
       "      <td>N</td>\n",
       "    </tr>\n",
       "    <tr>\n",
       "      <th>2010-01-07</th>\n",
       "      <td>40.538315</td>\n",
       "      <td>N</td>\n",
       "    </tr>\n",
       "    <tr>\n",
       "      <th>2010-01-08</th>\n",
       "      <td>40.794235</td>\n",
       "      <td>N</td>\n",
       "    </tr>\n",
       "    <tr>\n",
       "      <th>...</th>\n",
       "      <td>...</td>\n",
       "      <td>...</td>\n",
       "    </tr>\n",
       "    <tr>\n",
       "      <th>2023-06-26</th>\n",
       "      <td>156.854762</td>\n",
       "      <td>Y</td>\n",
       "    </tr>\n",
       "    <tr>\n",
       "      <th>2023-06-27</th>\n",
       "      <td>155.357408</td>\n",
       "      <td>Y</td>\n",
       "    </tr>\n",
       "    <tr>\n",
       "      <th>2023-06-28</th>\n",
       "      <td>157.433741</td>\n",
       "      <td>Y</td>\n",
       "    </tr>\n",
       "    <tr>\n",
       "      <th>2023-06-29</th>\n",
       "      <td>152.602280</td>\n",
       "      <td>Y</td>\n",
       "    </tr>\n",
       "    <tr>\n",
       "      <th>2023-06-30</th>\n",
       "      <td>150.466055</td>\n",
       "      <td>Y</td>\n",
       "    </tr>\n",
       "  </tbody>\n",
       "</table>\n",
       "<p>3449 rows × 2 columns</p>\n",
       "</div>"
      ],
      "text/plain": [
       "                   SIE Forecasted\n",
       "Date                             \n",
       "2010-01-04   39.892437          N\n",
       "2010-01-05   39.916805          N\n",
       "2010-01-06   40.063042          N\n",
       "2010-01-07   40.538315          N\n",
       "2010-01-08   40.794235          N\n",
       "...                ...        ...\n",
       "2023-06-26  156.854762          Y\n",
       "2023-06-27  155.357408          Y\n",
       "2023-06-28  157.433741          Y\n",
       "2023-06-29  152.602280          Y\n",
       "2023-06-30  150.466055          Y\n",
       "\n",
       "[3449 rows x 2 columns]"
      ]
     },
     "execution_count": 24,
     "metadata": {},
     "output_type": "execute_result"
    }
   ],
   "source": [
    "# Create a dataframe that has same index as Siemens dataframe\n",
    "result1 = pd.DataFrame(index=SIE_base.index)\n",
    "# Extract actual data from alv\n",
    "tem1 = SIE_base['Close'].tolist()[:len(SIE_base)-695]\n",
    "# Extract forecasted date from above result\n",
    "tem2 = SIE_test['Predicted_Close'].tolist()\n",
    "# Combine them to a list\n",
    "tem3 = tem1 + tem2\n",
    "# Create a column from the resulted list\n",
    "result1['SIE'] = tem3\n",
    "# Mark forecasted or not for each line\n",
    "result1['Forecasted'] = 'N'\n",
    "result1.loc[result1.index[-695:], 'Forecasted'] = 'Y'\n",
    "result1"
   ]
  },
  {
   "cell_type": "markdown",
   "metadata": {},
   "source": [
    "# Deutsche Telekom 1 Features"
   ]
  },
  {
   "cell_type": "code",
   "execution_count": 25,
   "metadata": {},
   "outputs": [
    {
     "data": {
      "text/html": [
       "<div>\n",
       "<style scoped>\n",
       "    .dataframe tbody tr th:only-of-type {\n",
       "        vertical-align: middle;\n",
       "    }\n",
       "\n",
       "    .dataframe tbody tr th {\n",
       "        vertical-align: top;\n",
       "    }\n",
       "\n",
       "    .dataframe thead th {\n",
       "        text-align: right;\n",
       "    }\n",
       "</style>\n",
       "<table border=\"1\" class=\"dataframe\">\n",
       "  <thead>\n",
       "    <tr style=\"text-align: right;\">\n",
       "      <th></th>\n",
       "      <th>Close</th>\n",
       "      <th>pe-ratio</th>\n",
       "      <th>pb-ratio</th>\n",
       "      <th>Target</th>\n",
       "    </tr>\n",
       "    <tr>\n",
       "      <th>Date</th>\n",
       "      <th></th>\n",
       "      <th></th>\n",
       "      <th></th>\n",
       "      <th></th>\n",
       "    </tr>\n",
       "  </thead>\n",
       "  <tbody>\n",
       "    <tr>\n",
       "      <th>2010-01-04</th>\n",
       "      <td>4.953136</td>\n",
       "      <td>128.625000</td>\n",
       "      <td>1.070129</td>\n",
       "      <td>4.911083</td>\n",
       "    </tr>\n",
       "    <tr>\n",
       "      <th>2010-01-05</th>\n",
       "      <td>4.911083</td>\n",
       "      <td>128.625000</td>\n",
       "      <td>1.070129</td>\n",
       "      <td>4.789590</td>\n",
       "    </tr>\n",
       "    <tr>\n",
       "      <th>2010-01-06</th>\n",
       "      <td>4.789590</td>\n",
       "      <td>128.625000</td>\n",
       "      <td>1.070129</td>\n",
       "      <td>4.698472</td>\n",
       "    </tr>\n",
       "    <tr>\n",
       "      <th>2010-01-07</th>\n",
       "      <td>4.698472</td>\n",
       "      <td>128.625000</td>\n",
       "      <td>1.070129</td>\n",
       "      <td>4.724171</td>\n",
       "    </tr>\n",
       "    <tr>\n",
       "      <th>2010-01-08</th>\n",
       "      <td>4.724171</td>\n",
       "      <td>128.625000</td>\n",
       "      <td>1.070129</td>\n",
       "      <td>4.756881</td>\n",
       "    </tr>\n",
       "    <tr>\n",
       "      <th>...</th>\n",
       "      <td>...</td>\n",
       "      <td>...</td>\n",
       "      <td>...</td>\n",
       "      <td>...</td>\n",
       "    </tr>\n",
       "    <tr>\n",
       "      <th>2023-06-23</th>\n",
       "      <td>19.558001</td>\n",
       "      <td>5.658228</td>\n",
       "      <td>1.057418</td>\n",
       "      <td>19.695999</td>\n",
       "    </tr>\n",
       "    <tr>\n",
       "      <th>2023-06-26</th>\n",
       "      <td>19.695999</td>\n",
       "      <td>5.658228</td>\n",
       "      <td>1.057418</td>\n",
       "      <td>19.906000</td>\n",
       "    </tr>\n",
       "    <tr>\n",
       "      <th>2023-06-27</th>\n",
       "      <td>19.906000</td>\n",
       "      <td>5.658228</td>\n",
       "      <td>1.057418</td>\n",
       "      <td>20.030001</td>\n",
       "    </tr>\n",
       "    <tr>\n",
       "      <th>2023-06-28</th>\n",
       "      <td>20.030001</td>\n",
       "      <td>5.658228</td>\n",
       "      <td>1.057418</td>\n",
       "      <td>19.930000</td>\n",
       "    </tr>\n",
       "    <tr>\n",
       "      <th>2023-06-29</th>\n",
       "      <td>19.930000</td>\n",
       "      <td>5.658228</td>\n",
       "      <td>1.057418</td>\n",
       "      <td>19.976000</td>\n",
       "    </tr>\n",
       "  </tbody>\n",
       "</table>\n",
       "<p>3448 rows × 4 columns</p>\n",
       "</div>"
      ],
      "text/plain": [
       "                Close    pe-ratio  pb-ratio     Target\n",
       "Date                                                  \n",
       "2010-01-04   4.953136  128.625000  1.070129   4.911083\n",
       "2010-01-05   4.911083  128.625000  1.070129   4.789590\n",
       "2010-01-06   4.789590  128.625000  1.070129   4.698472\n",
       "2010-01-07   4.698472  128.625000  1.070129   4.724171\n",
       "2010-01-08   4.724171  128.625000  1.070129   4.756881\n",
       "...               ...         ...       ...        ...\n",
       "2023-06-23  19.558001    5.658228  1.057418  19.695999\n",
       "2023-06-26  19.695999    5.658228  1.057418  19.906000\n",
       "2023-06-27  19.906000    5.658228  1.057418  20.030001\n",
       "2023-06-28  20.030001    5.658228  1.057418  19.930000\n",
       "2023-06-29  19.930000    5.658228  1.057418  19.976000\n",
       "\n",
       "[3448 rows x 4 columns]"
      ]
     },
     "execution_count": 25,
     "metadata": {},
     "output_type": "execute_result"
    }
   ],
   "source": [
    "#Set next day value as target \n",
    "DTE['Target'] = DTE.Close.shift(-1)\n",
    "DTE.dropna(inplace=True)\n",
    "DTE"
   ]
  },
  {
   "cell_type": "code",
   "execution_count": 26,
   "metadata": {},
   "outputs": [],
   "source": [
    "#split train and test data\n",
    "DTE_train = DTE.loc[:end_date]\n",
    "DTE_test = DTE.loc[test_start_date:]"
   ]
  },
  {
   "cell_type": "code",
   "execution_count": 27,
   "metadata": {},
   "outputs": [
    {
     "data": {
      "text/plain": [
       "True"
      ]
     },
     "execution_count": 27,
     "metadata": {},
     "output_type": "execute_result"
    }
   ],
   "source": [
    "# Reconcile length of data set and subsets\n",
    "DTE.shape[0] == DTE_train.shape[0] + DTE_test.shape[0]"
   ]
  },
  {
   "cell_type": "code",
   "execution_count": 28,
   "metadata": {},
   "outputs": [],
   "source": [
    "#set variables for regression\n",
    "DTE_X_train = DTE_train[['Close']]\n",
    "DTE_y_train = DTE_train['Target']\n",
    "DTE_X_test = DTE_test[['Close']]\n",
    "DTE_y_test = DTE_test['Target']"
   ]
  },
  {
   "cell_type": "code",
   "execution_count": 29,
   "metadata": {},
   "outputs": [],
   "source": [
    "#creating regressor model\n",
    "model2 = LinearRegression()"
   ]
  },
  {
   "cell_type": "code",
   "execution_count": 30,
   "metadata": {},
   "outputs": [],
   "source": [
    "# fit liner regression model\n",
    "model2 = model2.fit(DTE_X_train, DTE_y_train)"
   ]
  },
  {
   "cell_type": "code",
   "execution_count": 31,
   "metadata": {},
   "outputs": [
    {
     "data": {
      "text/plain": [
       "0.9982755110396586"
      ]
     },
     "execution_count": 31,
     "metadata": {},
     "output_type": "execute_result"
    }
   ],
   "source": [
    "model2.score(DTE_X_train, DTE_y_train)"
   ]
  },
  {
   "cell_type": "code",
   "execution_count": 32,
   "metadata": {},
   "outputs": [
    {
     "data": {
      "text/plain": [
       "array([0.99921479])"
      ]
     },
     "execution_count": 32,
     "metadata": {},
     "output_type": "execute_result"
    }
   ],
   "source": [
    "model2.coef_"
   ]
  },
  {
   "cell_type": "code",
   "execution_count": 33,
   "metadata": {},
   "outputs": [
    {
     "data": {
      "text/plain": [
       "0.009808596746784914"
      ]
     },
     "execution_count": 33,
     "metadata": {},
     "output_type": "execute_result"
    }
   ],
   "source": [
    "model2.intercept_"
   ]
  },
  {
   "cell_type": "code",
   "execution_count": 34,
   "metadata": {},
   "outputs": [],
   "source": [
    "pred = model2.predict(DTE_X_test)"
   ]
  },
  {
   "cell_type": "code",
   "execution_count": 35,
   "metadata": {},
   "outputs": [],
   "source": [
    "DTE_test['Predicted_Close'] = pred"
   ]
  },
  {
   "cell_type": "code",
   "execution_count": 36,
   "metadata": {},
   "outputs": [
    {
     "data": {
      "text/html": [
       "<div>\n",
       "<style scoped>\n",
       "    .dataframe tbody tr th:only-of-type {\n",
       "        vertical-align: middle;\n",
       "    }\n",
       "\n",
       "    .dataframe tbody tr th {\n",
       "        vertical-align: top;\n",
       "    }\n",
       "\n",
       "    .dataframe thead th {\n",
       "        text-align: right;\n",
       "    }\n",
       "</style>\n",
       "<table border=\"1\" class=\"dataframe\">\n",
       "  <thead>\n",
       "    <tr style=\"text-align: right;\">\n",
       "      <th></th>\n",
       "      <th>Close</th>\n",
       "      <th>pe-ratio</th>\n",
       "      <th>pb-ratio</th>\n",
       "      <th>Target</th>\n",
       "      <th>Predicted_Close</th>\n",
       "    </tr>\n",
       "    <tr>\n",
       "      <th>Date</th>\n",
       "      <th></th>\n",
       "      <th></th>\n",
       "      <th></th>\n",
       "      <th></th>\n",
       "      <th></th>\n",
       "    </tr>\n",
       "  </thead>\n",
       "  <tbody>\n",
       "    <tr>\n",
       "      <th>2020-10-08</th>\n",
       "      <td>13.030954</td>\n",
       "      <td>21.651515</td>\n",
       "      <td>0.940896</td>\n",
       "      <td>12.981357</td>\n",
       "      <td>13.030531</td>\n",
       "    </tr>\n",
       "    <tr>\n",
       "      <th>2020-10-09</th>\n",
       "      <td>12.981357</td>\n",
       "      <td>21.651515</td>\n",
       "      <td>0.940896</td>\n",
       "      <td>13.067026</td>\n",
       "      <td>12.980972</td>\n",
       "    </tr>\n",
       "    <tr>\n",
       "      <th>2020-10-12</th>\n",
       "      <td>13.067026</td>\n",
       "      <td>21.651515</td>\n",
       "      <td>0.940896</td>\n",
       "      <td>13.107607</td>\n",
       "      <td>13.066574</td>\n",
       "    </tr>\n",
       "    <tr>\n",
       "      <th>2020-10-13</th>\n",
       "      <td>13.107607</td>\n",
       "      <td>21.651515</td>\n",
       "      <td>0.940896</td>\n",
       "      <td>13.053500</td>\n",
       "      <td>13.107123</td>\n",
       "    </tr>\n",
       "    <tr>\n",
       "      <th>2020-10-14</th>\n",
       "      <td>13.053500</td>\n",
       "      <td>21.651515</td>\n",
       "      <td>0.940896</td>\n",
       "      <td>12.643183</td>\n",
       "      <td>13.053059</td>\n",
       "    </tr>\n",
       "    <tr>\n",
       "      <th>...</th>\n",
       "      <td>...</td>\n",
       "      <td>...</td>\n",
       "      <td>...</td>\n",
       "      <td>...</td>\n",
       "      <td>...</td>\n",
       "    </tr>\n",
       "    <tr>\n",
       "      <th>2023-06-23</th>\n",
       "      <td>19.558001</td>\n",
       "      <td>5.658228</td>\n",
       "      <td>1.057418</td>\n",
       "      <td>19.695999</td>\n",
       "      <td>19.552452</td>\n",
       "    </tr>\n",
       "    <tr>\n",
       "      <th>2023-06-26</th>\n",
       "      <td>19.695999</td>\n",
       "      <td>5.658228</td>\n",
       "      <td>1.057418</td>\n",
       "      <td>19.906000</td>\n",
       "      <td>19.690342</td>\n",
       "    </tr>\n",
       "    <tr>\n",
       "      <th>2023-06-27</th>\n",
       "      <td>19.906000</td>\n",
       "      <td>5.658228</td>\n",
       "      <td>1.057418</td>\n",
       "      <td>20.030001</td>\n",
       "      <td>19.900178</td>\n",
       "    </tr>\n",
       "    <tr>\n",
       "      <th>2023-06-28</th>\n",
       "      <td>20.030001</td>\n",
       "      <td>5.658228</td>\n",
       "      <td>1.057418</td>\n",
       "      <td>19.930000</td>\n",
       "      <td>20.024081</td>\n",
       "    </tr>\n",
       "    <tr>\n",
       "      <th>2023-06-29</th>\n",
       "      <td>19.930000</td>\n",
       "      <td>5.658228</td>\n",
       "      <td>1.057418</td>\n",
       "      <td>19.976000</td>\n",
       "      <td>19.924160</td>\n",
       "    </tr>\n",
       "  </tbody>\n",
       "</table>\n",
       "<p>695 rows × 5 columns</p>\n",
       "</div>"
      ],
      "text/plain": [
       "                Close   pe-ratio  pb-ratio     Target  Predicted_Close\n",
       "Date                                                                  \n",
       "2020-10-08  13.030954  21.651515  0.940896  12.981357        13.030531\n",
       "2020-10-09  12.981357  21.651515  0.940896  13.067026        12.980972\n",
       "2020-10-12  13.067026  21.651515  0.940896  13.107607        13.066574\n",
       "2020-10-13  13.107607  21.651515  0.940896  13.053500        13.107123\n",
       "2020-10-14  13.053500  21.651515  0.940896  12.643183        13.053059\n",
       "...               ...        ...       ...        ...              ...\n",
       "2023-06-23  19.558001   5.658228  1.057418  19.695999        19.552452\n",
       "2023-06-26  19.695999   5.658228  1.057418  19.906000        19.690342\n",
       "2023-06-27  19.906000   5.658228  1.057418  20.030001        19.900178\n",
       "2023-06-28  20.030001   5.658228  1.057418  19.930000        20.024081\n",
       "2023-06-29  19.930000   5.658228  1.057418  19.976000        19.924160\n",
       "\n",
       "[695 rows x 5 columns]"
      ]
     },
     "execution_count": 36,
     "metadata": {},
     "output_type": "execute_result"
    }
   ],
   "source": [
    "DTE_test"
   ]
  },
  {
   "cell_type": "code",
   "execution_count": 37,
   "metadata": {},
   "outputs": [],
   "source": [
    "#again return to previous shape\n",
    "DTE_y_test = np.array(DTE_test['Target'])"
   ]
  },
  {
   "cell_type": "code",
   "execution_count": 38,
   "metadata": {},
   "outputs": [
    {
     "name": "stdout",
     "output_type": "stream",
     "text": [
      "Root Mean Squared Error (RMSE): 0.20757759111914506\n",
      "Mean Absolute Percentage Error (MAPE): 0.008930361780925416\n"
     ]
    }
   ],
   "source": [
    "#checking mse and rmse \n",
    "DTE_mse = mean_squared_error(DTE_y_test, DTE_test['Predicted_Close'])\n",
    "DTE_rmse = m.sqrt(DTE_mse)\n",
    "DTE_mape = np.mean(np.abs(DTE_test['Predicted_Close'] - DTE_y_test)/np.abs(DTE_y_test))\n",
    "\n",
    "print(f'Root Mean Squared Error (RMSE): {DTE_rmse}')\n",
    "print(f'Mean Absolute Percentage Error (MAPE): {DTE_mape}')"
   ]
  },
  {
   "cell_type": "code",
   "execution_count": 39,
   "metadata": {},
   "outputs": [
    {
     "data": {
      "text/plain": [
       "<matplotlib.legend.Legend at 0x1bd6404aeb0>"
      ]
     },
     "execution_count": 39,
     "metadata": {},
     "output_type": "execute_result"
    },
    {
     "data": {
      "image/png": "[encoded data removed]",
      "text/plain": [
       "<Figure size 1440x360 with 1 Axes>"
      ]
     },
     "metadata": {
      "needs_background": "light"
     },
     "output_type": "display_data"
    }
   ],
   "source": [
    "#plotting predicted data\n",
    "plt.figure(figsize=(20, 5))\n",
    "plt.plot(DTE_test['Target'], label = 'True Closing Price')\n",
    "plt.plot(DTE_test['Predicted_Close'], label = 'Predictions')\n",
    "plt.xlabel('Time')\n",
    "plt.ylabel('Closing Price')\n",
    "plt.legend(labels = ['True Closing Price', 'Predictions'])"
   ]
  },
  {
   "cell_type": "code",
   "execution_count": 40,
   "metadata": {},
   "outputs": [
    {
     "data": {
      "text/html": [
       "<div>\n",
       "<style scoped>\n",
       "    .dataframe tbody tr th:only-of-type {\n",
       "        vertical-align: middle;\n",
       "    }\n",
       "\n",
       "    .dataframe tbody tr th {\n",
       "        vertical-align: top;\n",
       "    }\n",
       "\n",
       "    .dataframe thead th {\n",
       "        text-align: right;\n",
       "    }\n",
       "</style>\n",
       "<table border=\"1\" class=\"dataframe\">\n",
       "  <thead>\n",
       "    <tr style=\"text-align: right;\">\n",
       "      <th></th>\n",
       "      <th>SIE</th>\n",
       "      <th>Forecasted</th>\n",
       "      <th>DTE</th>\n",
       "    </tr>\n",
       "    <tr>\n",
       "      <th>Date</th>\n",
       "      <th></th>\n",
       "      <th></th>\n",
       "      <th></th>\n",
       "    </tr>\n",
       "  </thead>\n",
       "  <tbody>\n",
       "    <tr>\n",
       "      <th>2010-01-04</th>\n",
       "      <td>39.892437</td>\n",
       "      <td>N</td>\n",
       "      <td>4.953136</td>\n",
       "    </tr>\n",
       "    <tr>\n",
       "      <th>2010-01-05</th>\n",
       "      <td>39.916805</td>\n",
       "      <td>N</td>\n",
       "      <td>4.911083</td>\n",
       "    </tr>\n",
       "    <tr>\n",
       "      <th>2010-01-06</th>\n",
       "      <td>40.063042</td>\n",
       "      <td>N</td>\n",
       "      <td>4.789590</td>\n",
       "    </tr>\n",
       "    <tr>\n",
       "      <th>2010-01-07</th>\n",
       "      <td>40.538315</td>\n",
       "      <td>N</td>\n",
       "      <td>4.698472</td>\n",
       "    </tr>\n",
       "    <tr>\n",
       "      <th>2010-01-08</th>\n",
       "      <td>40.794235</td>\n",
       "      <td>N</td>\n",
       "      <td>4.724171</td>\n",
       "    </tr>\n",
       "    <tr>\n",
       "      <th>...</th>\n",
       "      <td>...</td>\n",
       "      <td>...</td>\n",
       "      <td>...</td>\n",
       "    </tr>\n",
       "    <tr>\n",
       "      <th>2023-06-26</th>\n",
       "      <td>156.854762</td>\n",
       "      <td>Y</td>\n",
       "      <td>19.552452</td>\n",
       "    </tr>\n",
       "    <tr>\n",
       "      <th>2023-06-27</th>\n",
       "      <td>155.357408</td>\n",
       "      <td>Y</td>\n",
       "      <td>19.690342</td>\n",
       "    </tr>\n",
       "    <tr>\n",
       "      <th>2023-06-28</th>\n",
       "      <td>157.433741</td>\n",
       "      <td>Y</td>\n",
       "      <td>19.900178</td>\n",
       "    </tr>\n",
       "    <tr>\n",
       "      <th>2023-06-29</th>\n",
       "      <td>152.602280</td>\n",
       "      <td>Y</td>\n",
       "      <td>20.024081</td>\n",
       "    </tr>\n",
       "    <tr>\n",
       "      <th>2023-06-30</th>\n",
       "      <td>150.466055</td>\n",
       "      <td>Y</td>\n",
       "      <td>19.924160</td>\n",
       "    </tr>\n",
       "  </tbody>\n",
       "</table>\n",
       "<p>3449 rows × 3 columns</p>\n",
       "</div>"
      ],
      "text/plain": [
       "                   SIE Forecasted        DTE\n",
       "Date                                        \n",
       "2010-01-04   39.892437          N   4.953136\n",
       "2010-01-05   39.916805          N   4.911083\n",
       "2010-01-06   40.063042          N   4.789590\n",
       "2010-01-07   40.538315          N   4.698472\n",
       "2010-01-08   40.794235          N   4.724171\n",
       "...                ...        ...        ...\n",
       "2023-06-26  156.854762          Y  19.552452\n",
       "2023-06-27  155.357408          Y  19.690342\n",
       "2023-06-28  157.433741          Y  19.900178\n",
       "2023-06-29  152.602280          Y  20.024081\n",
       "2023-06-30  150.466055          Y  19.924160\n",
       "\n",
       "[3449 rows x 3 columns]"
      ]
     },
     "execution_count": 40,
     "metadata": {},
     "output_type": "execute_result"
    }
   ],
   "source": [
    "# Extract actual data from DTE\n",
    "tem1 = DTE_base['Close'].tolist()[:len(DTE_base)-695]\n",
    "# Extract forecasted date from above result\n",
    "tem2 = DTE_test['Predicted_Close'].tolist()\n",
    "# Combine them to a list\n",
    "tem3 = tem1 + tem2\n",
    "# Create a column from the resulted list\n",
    "result1['DTE'] = tem3\n",
    "result1"
   ]
  },
  {
   "cell_type": "markdown",
   "metadata": {},
   "source": [
    "# Allianz 1 Features"
   ]
  },
  {
   "cell_type": "code",
   "execution_count": 41,
   "metadata": {},
   "outputs": [
    {
     "data": {
      "text/html": [
       "<div>\n",
       "<style scoped>\n",
       "    .dataframe tbody tr th:only-of-type {\n",
       "        vertical-align: middle;\n",
       "    }\n",
       "\n",
       "    .dataframe tbody tr th {\n",
       "        vertical-align: top;\n",
       "    }\n",
       "\n",
       "    .dataframe thead th {\n",
       "        text-align: right;\n",
       "    }\n",
       "</style>\n",
       "<table border=\"1\" class=\"dataframe\">\n",
       "  <thead>\n",
       "    <tr style=\"text-align: right;\">\n",
       "      <th></th>\n",
       "      <th>Close</th>\n",
       "      <th>pe-ratio</th>\n",
       "      <th>pb-ratio</th>\n",
       "      <th>Target</th>\n",
       "    </tr>\n",
       "    <tr>\n",
       "      <th>Date</th>\n",
       "      <th></th>\n",
       "      <th></th>\n",
       "      <th></th>\n",
       "      <th></th>\n",
       "    </tr>\n",
       "  </thead>\n",
       "  <tbody>\n",
       "    <tr>\n",
       "      <th>2010-01-04</th>\n",
       "      <td>45.519119</td>\n",
       "      <td>9.154412</td>\n",
       "      <td>1.292624</td>\n",
       "      <td>45.657921</td>\n",
       "    </tr>\n",
       "    <tr>\n",
       "      <th>2010-01-05</th>\n",
       "      <td>45.657921</td>\n",
       "      <td>9.154412</td>\n",
       "      <td>1.292624</td>\n",
       "      <td>46.012665</td>\n",
       "    </tr>\n",
       "    <tr>\n",
       "      <th>2010-01-06</th>\n",
       "      <td>46.012665</td>\n",
       "      <td>9.154412</td>\n",
       "      <td>1.292624</td>\n",
       "      <td>45.483131</td>\n",
       "    </tr>\n",
       "    <tr>\n",
       "      <th>2010-01-07</th>\n",
       "      <td>45.483131</td>\n",
       "      <td>9.154412</td>\n",
       "      <td>1.292624</td>\n",
       "      <td>45.236355</td>\n",
       "    </tr>\n",
       "    <tr>\n",
       "      <th>2010-01-08</th>\n",
       "      <td>45.236355</td>\n",
       "      <td>9.154412</td>\n",
       "      <td>1.292624</td>\n",
       "      <td>44.727394</td>\n",
       "    </tr>\n",
       "    <tr>\n",
       "      <th>...</th>\n",
       "      <td>...</td>\n",
       "      <td>...</td>\n",
       "      <td>...</td>\n",
       "      <td>...</td>\n",
       "    </tr>\n",
       "    <tr>\n",
       "      <th>2023-06-23</th>\n",
       "      <td>209.149994</td>\n",
       "      <td>10.264393</td>\n",
       "      <td>1.461468</td>\n",
       "      <td>209.199997</td>\n",
       "    </tr>\n",
       "    <tr>\n",
       "      <th>2023-06-26</th>\n",
       "      <td>209.199997</td>\n",
       "      <td>10.264393</td>\n",
       "      <td>1.461468</td>\n",
       "      <td>211.300003</td>\n",
       "    </tr>\n",
       "    <tr>\n",
       "      <th>2023-06-27</th>\n",
       "      <td>211.300003</td>\n",
       "      <td>10.264393</td>\n",
       "      <td>1.461468</td>\n",
       "      <td>211.649994</td>\n",
       "    </tr>\n",
       "    <tr>\n",
       "      <th>2023-06-28</th>\n",
       "      <td>211.649994</td>\n",
       "      <td>10.264393</td>\n",
       "      <td>1.461468</td>\n",
       "      <td>211.050003</td>\n",
       "    </tr>\n",
       "    <tr>\n",
       "      <th>2023-06-29</th>\n",
       "      <td>211.050003</td>\n",
       "      <td>10.264393</td>\n",
       "      <td>1.461468</td>\n",
       "      <td>213.199997</td>\n",
       "    </tr>\n",
       "  </tbody>\n",
       "</table>\n",
       "<p>3448 rows × 4 columns</p>\n",
       "</div>"
      ],
      "text/plain": [
       "                 Close   pe-ratio  pb-ratio      Target\n",
       "Date                                                   \n",
       "2010-01-04   45.519119   9.154412  1.292624   45.657921\n",
       "2010-01-05   45.657921   9.154412  1.292624   46.012665\n",
       "2010-01-06   46.012665   9.154412  1.292624   45.483131\n",
       "2010-01-07   45.483131   9.154412  1.292624   45.236355\n",
       "2010-01-08   45.236355   9.154412  1.292624   44.727394\n",
       "...                ...        ...       ...         ...\n",
       "2023-06-23  209.149994  10.264393  1.461468  209.199997\n",
       "2023-06-26  209.199997  10.264393  1.461468  211.300003\n",
       "2023-06-27  211.300003  10.264393  1.461468  211.649994\n",
       "2023-06-28  211.649994  10.264393  1.461468  211.050003\n",
       "2023-06-29  211.050003  10.264393  1.461468  213.199997\n",
       "\n",
       "[3448 rows x 4 columns]"
      ]
     },
     "execution_count": 41,
     "metadata": {},
     "output_type": "execute_result"
    }
   ],
   "source": [
    "#Set next day value as target \n",
    "ALV['Target'] = ALV.Close.shift(-1)\n",
    "ALV.dropna(inplace=True)\n",
    "ALV"
   ]
  },
  {
   "cell_type": "code",
   "execution_count": 42,
   "metadata": {},
   "outputs": [],
   "source": [
    "#split train and test data\n",
    "ALV_train = ALV.loc[:end_date]\n",
    "ALV_test = ALV.loc[test_start_date:]"
   ]
  },
  {
   "cell_type": "code",
   "execution_count": 43,
   "metadata": {},
   "outputs": [
    {
     "data": {
      "text/plain": [
       "True"
      ]
     },
     "execution_count": 43,
     "metadata": {},
     "output_type": "execute_result"
    }
   ],
   "source": [
    "# Reconcile length of data set and subsets\n",
    "ALV.shape[0] == ALV_train.shape[0] + ALV_test.shape[0]"
   ]
  },
  {
   "cell_type": "code",
   "execution_count": 44,
   "metadata": {},
   "outputs": [],
   "source": [
    "#set variables for regression\n",
    "ALV_X_train = ALV_train[['Close']]\n",
    "ALV_y_train = ALV_train['Target']\n",
    "ALV_X_test = ALV_test[['Close']]\n",
    "ALV_y_test = ALV_test['Target']"
   ]
  },
  {
   "cell_type": "code",
   "execution_count": 45,
   "metadata": {},
   "outputs": [],
   "source": [
    "#creating regressor model\n",
    "model3 = LinearRegression()"
   ]
  },
  {
   "cell_type": "code",
   "execution_count": 46,
   "metadata": {},
   "outputs": [],
   "source": [
    "# fit liner regression model\n",
    "model3 = model3.fit(ALV_X_train, ALV_y_train)"
   ]
  },
  {
   "cell_type": "code",
   "execution_count": 47,
   "metadata": {},
   "outputs": [
    {
     "data": {
      "text/plain": [
       "0.9986356287823627"
      ]
     },
     "execution_count": 47,
     "metadata": {},
     "output_type": "execute_result"
    }
   ],
   "source": [
    "model3.score(ALV_X_train, ALV_y_train)"
   ]
  },
  {
   "cell_type": "code",
   "execution_count": 48,
   "metadata": {},
   "outputs": [
    {
     "data": {
      "text/plain": [
       "array([0.99926542])"
      ]
     },
     "execution_count": 48,
     "metadata": {},
     "output_type": "execute_result"
    }
   ],
   "source": [
    "model3.coef_"
   ]
  },
  {
   "cell_type": "code",
   "execution_count": 49,
   "metadata": {},
   "outputs": [
    {
     "data": {
      "text/plain": [
       "0.10757820384216643"
      ]
     },
     "execution_count": 49,
     "metadata": {},
     "output_type": "execute_result"
    }
   ],
   "source": [
    "model3.intercept_"
   ]
  },
  {
   "cell_type": "code",
   "execution_count": 50,
   "metadata": {},
   "outputs": [],
   "source": [
    "ALV_test['Predicted_Close'] = model3.predict(ALV_X_test)"
   ]
  },
  {
   "cell_type": "code",
   "execution_count": 51,
   "metadata": {},
   "outputs": [
    {
     "data": {
      "text/html": [
       "<div>\n",
       "<style scoped>\n",
       "    .dataframe tbody tr th:only-of-type {\n",
       "        vertical-align: middle;\n",
       "    }\n",
       "\n",
       "    .dataframe tbody tr th {\n",
       "        vertical-align: top;\n",
       "    }\n",
       "\n",
       "    .dataframe thead th {\n",
       "        text-align: right;\n",
       "    }\n",
       "</style>\n",
       "<table border=\"1\" class=\"dataframe\">\n",
       "  <thead>\n",
       "    <tr style=\"text-align: right;\">\n",
       "      <th></th>\n",
       "      <th>Close</th>\n",
       "      <th>pe-ratio</th>\n",
       "      <th>pb-ratio</th>\n",
       "      <th>Target</th>\n",
       "      <th>Predicted_Close</th>\n",
       "    </tr>\n",
       "    <tr>\n",
       "      <th>Date</th>\n",
       "      <th></th>\n",
       "      <th></th>\n",
       "      <th></th>\n",
       "      <th></th>\n",
       "      <th></th>\n",
       "    </tr>\n",
       "  </thead>\n",
       "  <tbody>\n",
       "    <tr>\n",
       "      <th>2020-10-08</th>\n",
       "      <td>144.441971</td>\n",
       "      <td>9.953418</td>\n",
       "      <td>0.874770</td>\n",
       "      <td>144.838226</td>\n",
       "      <td>144.443444</td>\n",
       "    </tr>\n",
       "    <tr>\n",
       "      <th>2020-10-09</th>\n",
       "      <td>144.838226</td>\n",
       "      <td>9.953418</td>\n",
       "      <td>0.874770</td>\n",
       "      <td>146.302643</td>\n",
       "      <td>144.839409</td>\n",
       "    </tr>\n",
       "    <tr>\n",
       "      <th>2020-10-12</th>\n",
       "      <td>146.302643</td>\n",
       "      <td>9.953418</td>\n",
       "      <td>0.874770</td>\n",
       "      <td>143.442734</td>\n",
       "      <td>146.302750</td>\n",
       "    </tr>\n",
       "    <tr>\n",
       "      <th>2020-10-13</th>\n",
       "      <td>143.442734</td>\n",
       "      <td>9.953418</td>\n",
       "      <td>0.874770</td>\n",
       "      <td>143.873459</td>\n",
       "      <td>143.444941</td>\n",
       "    </tr>\n",
       "    <tr>\n",
       "      <th>2020-10-14</th>\n",
       "      <td>143.873459</td>\n",
       "      <td>9.953418</td>\n",
       "      <td>0.874770</td>\n",
       "      <td>139.755890</td>\n",
       "      <td>143.875350</td>\n",
       "    </tr>\n",
       "    <tr>\n",
       "      <th>...</th>\n",
       "      <td>...</td>\n",
       "      <td>...</td>\n",
       "      <td>...</td>\n",
       "      <td>...</td>\n",
       "      <td>...</td>\n",
       "    </tr>\n",
       "    <tr>\n",
       "      <th>2023-06-23</th>\n",
       "      <td>209.149994</td>\n",
       "      <td>10.264393</td>\n",
       "      <td>1.461468</td>\n",
       "      <td>209.199997</td>\n",
       "      <td>209.103934</td>\n",
       "    </tr>\n",
       "    <tr>\n",
       "      <th>2023-06-26</th>\n",
       "      <td>209.199997</td>\n",
       "      <td>10.264393</td>\n",
       "      <td>1.461468</td>\n",
       "      <td>211.300003</td>\n",
       "      <td>209.153900</td>\n",
       "    </tr>\n",
       "    <tr>\n",
       "      <th>2023-06-27</th>\n",
       "      <td>211.300003</td>\n",
       "      <td>10.264393</td>\n",
       "      <td>1.461468</td>\n",
       "      <td>211.649994</td>\n",
       "      <td>211.252364</td>\n",
       "    </tr>\n",
       "    <tr>\n",
       "      <th>2023-06-28</th>\n",
       "      <td>211.649994</td>\n",
       "      <td>10.264393</td>\n",
       "      <td>1.461468</td>\n",
       "      <td>211.050003</td>\n",
       "      <td>211.602098</td>\n",
       "    </tr>\n",
       "    <tr>\n",
       "      <th>2023-06-29</th>\n",
       "      <td>211.050003</td>\n",
       "      <td>10.264393</td>\n",
       "      <td>1.461468</td>\n",
       "      <td>213.199997</td>\n",
       "      <td>211.002548</td>\n",
       "    </tr>\n",
       "  </tbody>\n",
       "</table>\n",
       "<p>695 rows × 5 columns</p>\n",
       "</div>"
      ],
      "text/plain": [
       "                 Close   pe-ratio  pb-ratio      Target  Predicted_Close\n",
       "Date                                                                    \n",
       "2020-10-08  144.441971   9.953418  0.874770  144.838226       144.443444\n",
       "2020-10-09  144.838226   9.953418  0.874770  146.302643       144.839409\n",
       "2020-10-12  146.302643   9.953418  0.874770  143.442734       146.302750\n",
       "2020-10-13  143.442734   9.953418  0.874770  143.873459       143.444941\n",
       "2020-10-14  143.873459   9.953418  0.874770  139.755890       143.875350\n",
       "...                ...        ...       ...         ...              ...\n",
       "2023-06-23  209.149994  10.264393  1.461468  209.199997       209.103934\n",
       "2023-06-26  209.199997  10.264393  1.461468  211.300003       209.153900\n",
       "2023-06-27  211.300003  10.264393  1.461468  211.649994       211.252364\n",
       "2023-06-28  211.649994  10.264393  1.461468  211.050003       211.602098\n",
       "2023-06-29  211.050003  10.264393  1.461468  213.199997       211.002548\n",
       "\n",
       "[695 rows x 5 columns]"
      ]
     },
     "execution_count": 51,
     "metadata": {},
     "output_type": "execute_result"
    }
   ],
   "source": [
    "ALV_test"
   ]
  },
  {
   "cell_type": "code",
   "execution_count": 52,
   "metadata": {},
   "outputs": [],
   "source": [
    "#again return to previous shape\n",
    "ALV_y_test = np.array(ALV_test['Target'])"
   ]
  },
  {
   "cell_type": "code",
   "execution_count": 53,
   "metadata": {},
   "outputs": [
    {
     "name": "stdout",
     "output_type": "stream",
     "text": [
      "Root Mean Squared Error (RMSE): 2.561623140351562\n",
      "Mean Absolute Percentage Error (MAPE): 0.009514753945162244\n"
     ]
    }
   ],
   "source": [
    "#checking mse and rmse \n",
    "ALV_mse = mean_squared_error(ALV_y_test, ALV_test['Predicted_Close'])\n",
    "ALV_rmse = m.sqrt(ALV_mse)\n",
    "ALV_mape = np.mean(np.abs(ALV_test['Predicted_Close'] - ALV_y_test)/np.abs(ALV_y_test))\n",
    "\n",
    "print(f'Root Mean Squared Error (RMSE): {ALV_rmse}')\n",
    "print(f'Mean Absolute Percentage Error (MAPE): {ALV_mape}')"
   ]
  },
  {
   "cell_type": "code",
   "execution_count": 54,
   "metadata": {},
   "outputs": [
    {
     "data": {
      "text/plain": [
       "<matplotlib.legend.Legend at 0x1bd6456efd0>"
      ]
     },
     "execution_count": 54,
     "metadata": {},
     "output_type": "execute_result"
    },
    {
     "data": {
      "image/png": "[encoded data removed]",
      "text/plain": [
       "<Figure size 1440x360 with 1 Axes>"
      ]
     },
     "metadata": {
      "needs_background": "light"
     },
     "output_type": "display_data"
    }
   ],
   "source": [
    "#plotting predicted data\n",
    "plt.figure(figsize=(20, 5))\n",
    "plt.plot(ALV_test['Target'], label = 'True Closing Price')\n",
    "plt.plot(ALV_test['Predicted_Close'], label = 'Predictions')\n",
    "plt.xlabel('Time')\n",
    "plt.ylabel('Closing Price')\n",
    "plt.legend(labels = ['True Closing Price', 'Predictions'])"
   ]
  },
  {
   "cell_type": "code",
   "execution_count": 55,
   "metadata": {},
   "outputs": [
    {
     "data": {
      "text/html": [
       "<div>\n",
       "<style scoped>\n",
       "    .dataframe tbody tr th:only-of-type {\n",
       "        vertical-align: middle;\n",
       "    }\n",
       "\n",
       "    .dataframe tbody tr th {\n",
       "        vertical-align: top;\n",
       "    }\n",
       "\n",
       "    .dataframe thead th {\n",
       "        text-align: right;\n",
       "    }\n",
       "</style>\n",
       "<table border=\"1\" class=\"dataframe\">\n",
       "  <thead>\n",
       "    <tr style=\"text-align: right;\">\n",
       "      <th></th>\n",
       "      <th>SIE</th>\n",
       "      <th>Forecasted</th>\n",
       "      <th>DTE</th>\n",
       "      <th>ALV</th>\n",
       "    </tr>\n",
       "    <tr>\n",
       "      <th>Date</th>\n",
       "      <th></th>\n",
       "      <th></th>\n",
       "      <th></th>\n",
       "      <th></th>\n",
       "    </tr>\n",
       "  </thead>\n",
       "  <tbody>\n",
       "    <tr>\n",
       "      <th>2010-01-04</th>\n",
       "      <td>39.892437</td>\n",
       "      <td>N</td>\n",
       "      <td>4.953136</td>\n",
       "      <td>45.519119</td>\n",
       "    </tr>\n",
       "    <tr>\n",
       "      <th>2010-01-05</th>\n",
       "      <td>39.916805</td>\n",
       "      <td>N</td>\n",
       "      <td>4.911083</td>\n",
       "      <td>45.657921</td>\n",
       "    </tr>\n",
       "    <tr>\n",
       "      <th>2010-01-06</th>\n",
       "      <td>40.063042</td>\n",
       "      <td>N</td>\n",
       "      <td>4.789590</td>\n",
       "      <td>46.012665</td>\n",
       "    </tr>\n",
       "    <tr>\n",
       "      <th>2010-01-07</th>\n",
       "      <td>40.538315</td>\n",
       "      <td>N</td>\n",
       "      <td>4.698472</td>\n",
       "      <td>45.483131</td>\n",
       "    </tr>\n",
       "    <tr>\n",
       "      <th>2010-01-08</th>\n",
       "      <td>40.794235</td>\n",
       "      <td>N</td>\n",
       "      <td>4.724171</td>\n",
       "      <td>45.236355</td>\n",
       "    </tr>\n",
       "    <tr>\n",
       "      <th>...</th>\n",
       "      <td>...</td>\n",
       "      <td>...</td>\n",
       "      <td>...</td>\n",
       "      <td>...</td>\n",
       "    </tr>\n",
       "    <tr>\n",
       "      <th>2023-06-26</th>\n",
       "      <td>156.854762</td>\n",
       "      <td>Y</td>\n",
       "      <td>19.552452</td>\n",
       "      <td>209.103934</td>\n",
       "    </tr>\n",
       "    <tr>\n",
       "      <th>2023-06-27</th>\n",
       "      <td>155.357408</td>\n",
       "      <td>Y</td>\n",
       "      <td>19.690342</td>\n",
       "      <td>209.153900</td>\n",
       "    </tr>\n",
       "    <tr>\n",
       "      <th>2023-06-28</th>\n",
       "      <td>157.433741</td>\n",
       "      <td>Y</td>\n",
       "      <td>19.900178</td>\n",
       "      <td>211.252364</td>\n",
       "    </tr>\n",
       "    <tr>\n",
       "      <th>2023-06-29</th>\n",
       "      <td>152.602280</td>\n",
       "      <td>Y</td>\n",
       "      <td>20.024081</td>\n",
       "      <td>211.602098</td>\n",
       "    </tr>\n",
       "    <tr>\n",
       "      <th>2023-06-30</th>\n",
       "      <td>150.466055</td>\n",
       "      <td>Y</td>\n",
       "      <td>19.924160</td>\n",
       "      <td>211.002548</td>\n",
       "    </tr>\n",
       "  </tbody>\n",
       "</table>\n",
       "<p>3449 rows × 4 columns</p>\n",
       "</div>"
      ],
      "text/plain": [
       "                   SIE Forecasted        DTE         ALV\n",
       "Date                                                    \n",
       "2010-01-04   39.892437          N   4.953136   45.519119\n",
       "2010-01-05   39.916805          N   4.911083   45.657921\n",
       "2010-01-06   40.063042          N   4.789590   46.012665\n",
       "2010-01-07   40.538315          N   4.698472   45.483131\n",
       "2010-01-08   40.794235          N   4.724171   45.236355\n",
       "...                ...        ...        ...         ...\n",
       "2023-06-26  156.854762          Y  19.552452  209.103934\n",
       "2023-06-27  155.357408          Y  19.690342  209.153900\n",
       "2023-06-28  157.433741          Y  19.900178  211.252364\n",
       "2023-06-29  152.602280          Y  20.024081  211.602098\n",
       "2023-06-30  150.466055          Y  19.924160  211.002548\n",
       "\n",
       "[3449 rows x 4 columns]"
      ]
     },
     "execution_count": 55,
     "metadata": {},
     "output_type": "execute_result"
    }
   ],
   "source": [
    "# Extract actual data from alv\n",
    "tem1 = ALV_base['Close'].tolist()[:len(ALV_base)-695]\n",
    "# Extract forecasted date from above result\n",
    "tem2 = ALV_test['Predicted_Close'].tolist()\n",
    "# Combine them to a list\n",
    "tem3 = tem1 + tem2\n",
    "# Create a column from the resulted list\n",
    "result1['ALV'] = tem3\n",
    "result1"
   ]
  },
  {
   "cell_type": "markdown",
   "metadata": {},
   "source": [
    "# Merck KGaA 1 Features"
   ]
  },
  {
   "cell_type": "code",
   "execution_count": 56,
   "metadata": {},
   "outputs": [
    {
     "data": {
      "text/html": [
       "<div>\n",
       "<style scoped>\n",
       "    .dataframe tbody tr th:only-of-type {\n",
       "        vertical-align: middle;\n",
       "    }\n",
       "\n",
       "    .dataframe tbody tr th {\n",
       "        vertical-align: top;\n",
       "    }\n",
       "\n",
       "    .dataframe thead th {\n",
       "        text-align: right;\n",
       "    }\n",
       "</style>\n",
       "<table border=\"1\" class=\"dataframe\">\n",
       "  <thead>\n",
       "    <tr style=\"text-align: right;\">\n",
       "      <th></th>\n",
       "      <th>Close</th>\n",
       "      <th>pe-ratio</th>\n",
       "      <th>pb-ratio</th>\n",
       "      <th>Target</th>\n",
       "    </tr>\n",
       "    <tr>\n",
       "      <th>Date</th>\n",
       "      <th></th>\n",
       "      <th></th>\n",
       "      <th></th>\n",
       "      <th></th>\n",
       "    </tr>\n",
       "  </thead>\n",
       "  <tbody>\n",
       "    <tr>\n",
       "      <th>2010-01-04</th>\n",
       "      <td>26.576839</td>\n",
       "      <td>38.785717</td>\n",
       "      <td>1.488928</td>\n",
       "      <td>26.381214</td>\n",
       "    </tr>\n",
       "    <tr>\n",
       "      <th>2010-01-05</th>\n",
       "      <td>26.381214</td>\n",
       "      <td>38.785717</td>\n",
       "      <td>1.488928</td>\n",
       "      <td>26.364910</td>\n",
       "    </tr>\n",
       "    <tr>\n",
       "      <th>2010-01-06</th>\n",
       "      <td>26.364910</td>\n",
       "      <td>38.785717</td>\n",
       "      <td>1.488928</td>\n",
       "      <td>26.919188</td>\n",
       "    </tr>\n",
       "    <tr>\n",
       "      <th>2010-01-07</th>\n",
       "      <td>26.919188</td>\n",
       "      <td>38.785717</td>\n",
       "      <td>1.488928</td>\n",
       "      <td>26.646120</td>\n",
       "    </tr>\n",
       "    <tr>\n",
       "      <th>2010-01-08</th>\n",
       "      <td>26.646120</td>\n",
       "      <td>38.785717</td>\n",
       "      <td>1.488928</td>\n",
       "      <td>26.739857</td>\n",
       "    </tr>\n",
       "    <tr>\n",
       "      <th>...</th>\n",
       "      <td>...</td>\n",
       "      <td>...</td>\n",
       "      <td>...</td>\n",
       "      <td>...</td>\n",
       "    </tr>\n",
       "    <tr>\n",
       "      <th>2023-06-23</th>\n",
       "      <td>152.949997</td>\n",
       "      <td>23.026846</td>\n",
       "      <td>3.013593</td>\n",
       "      <td>152.600006</td>\n",
       "    </tr>\n",
       "    <tr>\n",
       "      <th>2023-06-26</th>\n",
       "      <td>152.600006</td>\n",
       "      <td>23.026846</td>\n",
       "      <td>3.013593</td>\n",
       "      <td>147.199997</td>\n",
       "    </tr>\n",
       "    <tr>\n",
       "      <th>2023-06-27</th>\n",
       "      <td>147.199997</td>\n",
       "      <td>23.026846</td>\n",
       "      <td>3.013593</td>\n",
       "      <td>150.500000</td>\n",
       "    </tr>\n",
       "    <tr>\n",
       "      <th>2023-06-28</th>\n",
       "      <td>150.500000</td>\n",
       "      <td>23.026846</td>\n",
       "      <td>3.013593</td>\n",
       "      <td>149.600006</td>\n",
       "    </tr>\n",
       "    <tr>\n",
       "      <th>2023-06-29</th>\n",
       "      <td>149.600006</td>\n",
       "      <td>23.026846</td>\n",
       "      <td>3.013593</td>\n",
       "      <td>151.550003</td>\n",
       "    </tr>\n",
       "  </tbody>\n",
       "</table>\n",
       "<p>3448 rows × 4 columns</p>\n",
       "</div>"
      ],
      "text/plain": [
       "                 Close   pe-ratio  pb-ratio      Target\n",
       "Date                                                   \n",
       "2010-01-04   26.576839  38.785717  1.488928   26.381214\n",
       "2010-01-05   26.381214  38.785717  1.488928   26.364910\n",
       "2010-01-06   26.364910  38.785717  1.488928   26.919188\n",
       "2010-01-07   26.919188  38.785717  1.488928   26.646120\n",
       "2010-01-08   26.646120  38.785717  1.488928   26.739857\n",
       "...                ...        ...       ...         ...\n",
       "2023-06-23  152.949997  23.026846  3.013593  152.600006\n",
       "2023-06-26  152.600006  23.026846  3.013593  147.199997\n",
       "2023-06-27  147.199997  23.026846  3.013593  150.500000\n",
       "2023-06-28  150.500000  23.026846  3.013593  149.600006\n",
       "2023-06-29  149.600006  23.026846  3.013593  151.550003\n",
       "\n",
       "[3448 rows x 4 columns]"
      ]
     },
     "execution_count": 56,
     "metadata": {},
     "output_type": "execute_result"
    }
   ],
   "source": [
    "#Set next day value as target \n",
    "MRK['Target'] = MRK.Close.shift(-1)\n",
    "MRK.dropna(inplace=True)\n",
    "MRK"
   ]
  },
  {
   "cell_type": "code",
   "execution_count": 57,
   "metadata": {},
   "outputs": [],
   "source": [
    "#split train and test data\n",
    "MRK_train = MRK.loc[:end_date]\n",
    "MRK_test = MRK.loc[test_start_date:]"
   ]
  },
  {
   "cell_type": "code",
   "execution_count": 58,
   "metadata": {},
   "outputs": [
    {
     "data": {
      "text/plain": [
       "True"
      ]
     },
     "execution_count": 58,
     "metadata": {},
     "output_type": "execute_result"
    }
   ],
   "source": [
    "# Reconcile length of data set and subsets\n",
    "MRK.shape[0] == MRK_train.shape[0] + MRK_test.shape[0]"
   ]
  },
  {
   "cell_type": "code",
   "execution_count": 59,
   "metadata": {},
   "outputs": [],
   "source": [
    "#set variables for regression\n",
    "MRK_X_train = MRK_train[['Close']]\n",
    "MRK_y_train = MRK_train['Target']\n",
    "MRK_X_test = MRK_test[['Close']]\n",
    "MRK_y_test = MRK_test['Target']"
   ]
  },
  {
   "cell_type": "code",
   "execution_count": 60,
   "metadata": {},
   "outputs": [],
   "source": [
    "#creating regressor model\n",
    "model4 = LinearRegression()"
   ]
  },
  {
   "cell_type": "code",
   "execution_count": 61,
   "metadata": {},
   "outputs": [],
   "source": [
    "# fit liner regression model\n",
    "model4 = model4.fit(MRK_X_train, MRK_y_train)"
   ]
  },
  {
   "cell_type": "code",
   "execution_count": 62,
   "metadata": {},
   "outputs": [
    {
     "data": {
      "text/plain": [
       "0.9985159073819684"
      ]
     },
     "execution_count": 62,
     "metadata": {},
     "output_type": "execute_result"
    }
   ],
   "source": [
    "model4.score(MRK_X_train, MRK_y_train)"
   ]
  },
  {
   "cell_type": "code",
   "execution_count": 63,
   "metadata": {},
   "outputs": [
    {
     "data": {
      "text/plain": [
       "array([0.99980892])"
      ]
     },
     "execution_count": 63,
     "metadata": {},
     "output_type": "execute_result"
    }
   ],
   "source": [
    "model4.coef_"
   ]
  },
  {
   "cell_type": "code",
   "execution_count": 64,
   "metadata": {},
   "outputs": [
    {
     "data": {
      "text/plain": [
       "0.04863598057534091"
      ]
     },
     "execution_count": 64,
     "metadata": {},
     "output_type": "execute_result"
    }
   ],
   "source": [
    "model4.intercept_"
   ]
  },
  {
   "cell_type": "code",
   "execution_count": 65,
   "metadata": {},
   "outputs": [],
   "source": [
    "MRK_test['Predicted_Close'] = model4.predict(MRK_X_test)"
   ]
  },
  {
   "cell_type": "code",
   "execution_count": 66,
   "metadata": {},
   "outputs": [
    {
     "data": {
      "text/html": [
       "<div>\n",
       "<style scoped>\n",
       "    .dataframe tbody tr th:only-of-type {\n",
       "        vertical-align: middle;\n",
       "    }\n",
       "\n",
       "    .dataframe tbody tr th {\n",
       "        vertical-align: top;\n",
       "    }\n",
       "\n",
       "    .dataframe thead th {\n",
       "        text-align: right;\n",
       "    }\n",
       "</style>\n",
       "<table border=\"1\" class=\"dataframe\">\n",
       "  <thead>\n",
       "    <tr style=\"text-align: right;\">\n",
       "      <th></th>\n",
       "      <th>Close</th>\n",
       "      <th>pe-ratio</th>\n",
       "      <th>pb-ratio</th>\n",
       "      <th>Target</th>\n",
       "      <th>Predicted_Close</th>\n",
       "    </tr>\n",
       "    <tr>\n",
       "      <th>Date</th>\n",
       "      <th></th>\n",
       "      <th></th>\n",
       "      <th></th>\n",
       "      <th></th>\n",
       "      <th></th>\n",
       "    </tr>\n",
       "  </thead>\n",
       "  <tbody>\n",
       "    <tr>\n",
       "      <th>2020-10-08</th>\n",
       "      <td>126.032745</td>\n",
       "      <td>28.965117</td>\n",
       "      <td>3.009257</td>\n",
       "      <td>126.661209</td>\n",
       "      <td>126.057298</td>\n",
       "    </tr>\n",
       "    <tr>\n",
       "      <th>2020-10-09</th>\n",
       "      <td>126.661209</td>\n",
       "      <td>28.965117</td>\n",
       "      <td>3.009257</td>\n",
       "      <td>126.661209</td>\n",
       "      <td>126.685642</td>\n",
       "    </tr>\n",
       "    <tr>\n",
       "      <th>2020-10-12</th>\n",
       "      <td>126.661209</td>\n",
       "      <td>28.965117</td>\n",
       "      <td>3.009257</td>\n",
       "      <td>126.226120</td>\n",
       "      <td>126.685642</td>\n",
       "    </tr>\n",
       "    <tr>\n",
       "      <th>2020-10-13</th>\n",
       "      <td>126.226120</td>\n",
       "      <td>28.965117</td>\n",
       "      <td>3.009257</td>\n",
       "      <td>124.098984</td>\n",
       "      <td>126.250636</td>\n",
       "    </tr>\n",
       "    <tr>\n",
       "      <th>2020-10-14</th>\n",
       "      <td>124.098984</td>\n",
       "      <td>28.965117</td>\n",
       "      <td>3.009257</td>\n",
       "      <td>119.699684</td>\n",
       "      <td>124.123906</td>\n",
       "    </tr>\n",
       "    <tr>\n",
       "      <th>...</th>\n",
       "      <td>...</td>\n",
       "      <td>...</td>\n",
       "      <td>...</td>\n",
       "      <td>...</td>\n",
       "      <td>...</td>\n",
       "    </tr>\n",
       "    <tr>\n",
       "      <th>2023-06-23</th>\n",
       "      <td>152.949997</td>\n",
       "      <td>23.026846</td>\n",
       "      <td>3.013593</td>\n",
       "      <td>152.600006</td>\n",
       "      <td>152.969407</td>\n",
       "    </tr>\n",
       "    <tr>\n",
       "      <th>2023-06-26</th>\n",
       "      <td>152.600006</td>\n",
       "      <td>23.026846</td>\n",
       "      <td>3.013593</td>\n",
       "      <td>147.199997</td>\n",
       "      <td>152.619483</td>\n",
       "    </tr>\n",
       "    <tr>\n",
       "      <th>2023-06-27</th>\n",
       "      <td>147.199997</td>\n",
       "      <td>23.026846</td>\n",
       "      <td>3.013593</td>\n",
       "      <td>150.500000</td>\n",
       "      <td>147.220505</td>\n",
       "    </tr>\n",
       "    <tr>\n",
       "      <th>2023-06-28</th>\n",
       "      <td>150.500000</td>\n",
       "      <td>23.026846</td>\n",
       "      <td>3.013593</td>\n",
       "      <td>149.600006</td>\n",
       "      <td>150.519878</td>\n",
       "    </tr>\n",
       "    <tr>\n",
       "      <th>2023-06-29</th>\n",
       "      <td>149.600006</td>\n",
       "      <td>23.026846</td>\n",
       "      <td>3.013593</td>\n",
       "      <td>151.550003</td>\n",
       "      <td>149.620056</td>\n",
       "    </tr>\n",
       "  </tbody>\n",
       "</table>\n",
       "<p>695 rows × 5 columns</p>\n",
       "</div>"
      ],
      "text/plain": [
       "                 Close   pe-ratio  pb-ratio      Target  Predicted_Close\n",
       "Date                                                                    \n",
       "2020-10-08  126.032745  28.965117  3.009257  126.661209       126.057298\n",
       "2020-10-09  126.661209  28.965117  3.009257  126.661209       126.685642\n",
       "2020-10-12  126.661209  28.965117  3.009257  126.226120       126.685642\n",
       "2020-10-13  126.226120  28.965117  3.009257  124.098984       126.250636\n",
       "2020-10-14  124.098984  28.965117  3.009257  119.699684       124.123906\n",
       "...                ...        ...       ...         ...              ...\n",
       "2023-06-23  152.949997  23.026846  3.013593  152.600006       152.969407\n",
       "2023-06-26  152.600006  23.026846  3.013593  147.199997       152.619483\n",
       "2023-06-27  147.199997  23.026846  3.013593  150.500000       147.220505\n",
       "2023-06-28  150.500000  23.026846  3.013593  149.600006       150.519878\n",
       "2023-06-29  149.600006  23.026846  3.013593  151.550003       149.620056\n",
       "\n",
       "[695 rows x 5 columns]"
      ]
     },
     "execution_count": 66,
     "metadata": {},
     "output_type": "execute_result"
    }
   ],
   "source": [
    "MRK_test"
   ]
  },
  {
   "cell_type": "code",
   "execution_count": 67,
   "metadata": {},
   "outputs": [],
   "source": [
    "#again return to previous shape\n",
    "MRK_y_test = np.array(MRK_test['Target'])"
   ]
  },
  {
   "cell_type": "code",
   "execution_count": 68,
   "metadata": {},
   "outputs": [
    {
     "name": "stdout",
     "output_type": "stream",
     "text": [
      "Root Mean Squared Error (RMSE): 2.9986685694383066\n",
      "Mean Absolute Percentage Error (MAPE): 0.012815393656274059\n"
     ]
    }
   ],
   "source": [
    "#checking mse and rmse \n",
    "MRK_mse = mean_squared_error(MRK_y_test, MRK_test['Predicted_Close'])\n",
    "MRK_rmse = m.sqrt(MRK_mse)\n",
    "MRK_mape = np.mean(np.abs(MRK_test['Predicted_Close'] - MRK_y_test)/np.abs(MRK_y_test))\n",
    "\n",
    "print(f'Root Mean Squared Error (RMSE): {MRK_rmse}')\n",
    "print(f'Mean Absolute Percentage Error (MAPE): {MRK_mape}')"
   ]
  },
  {
   "cell_type": "code",
   "execution_count": 69,
   "metadata": {},
   "outputs": [
    {
     "data": {
      "text/plain": [
       "<matplotlib.legend.Legend at 0x1bd64187f40>"
      ]
     },
     "execution_count": 69,
     "metadata": {},
     "output_type": "execute_result"
    },
    {
     "data": {
      "image/png": "[encoded data removed]",
      "text/plain": [
       "<Figure size 1440x360 with 1 Axes>"
      ]
     },
     "metadata": {
      "needs_background": "light"
     },
     "output_type": "display_data"
    }
   ],
   "source": [
    "#plotting predicted data\n",
    "plt.figure(figsize=(20, 5))\n",
    "plt.plot(MRK_test['Target'], label = 'True Closing Price')\n",
    "plt.plot(MRK_test['Predicted_Close'], label = 'Predictions')\n",
    "plt.xlabel('Time')\n",
    "plt.ylabel('Closing Price')\n",
    "plt.legend(labels = ['True Closing Price', 'Predictions'])"
   ]
  },
  {
   "cell_type": "code",
   "execution_count": 70,
   "metadata": {},
   "outputs": [
    {
     "data": {
      "text/html": [
       "<div>\n",
       "<style scoped>\n",
       "    .dataframe tbody tr th:only-of-type {\n",
       "        vertical-align: middle;\n",
       "    }\n",
       "\n",
       "    .dataframe tbody tr th {\n",
       "        vertical-align: top;\n",
       "    }\n",
       "\n",
       "    .dataframe thead th {\n",
       "        text-align: right;\n",
       "    }\n",
       "</style>\n",
       "<table border=\"1\" class=\"dataframe\">\n",
       "  <thead>\n",
       "    <tr style=\"text-align: right;\">\n",
       "      <th></th>\n",
       "      <th>SIE</th>\n",
       "      <th>Forecasted</th>\n",
       "      <th>DTE</th>\n",
       "      <th>ALV</th>\n",
       "      <th>MRK</th>\n",
       "    </tr>\n",
       "    <tr>\n",
       "      <th>Date</th>\n",
       "      <th></th>\n",
       "      <th></th>\n",
       "      <th></th>\n",
       "      <th></th>\n",
       "      <th></th>\n",
       "    </tr>\n",
       "  </thead>\n",
       "  <tbody>\n",
       "    <tr>\n",
       "      <th>2010-01-04</th>\n",
       "      <td>39.892437</td>\n",
       "      <td>N</td>\n",
       "      <td>4.953136</td>\n",
       "      <td>45.519119</td>\n",
       "      <td>26.576839</td>\n",
       "    </tr>\n",
       "    <tr>\n",
       "      <th>2010-01-05</th>\n",
       "      <td>39.916805</td>\n",
       "      <td>N</td>\n",
       "      <td>4.911083</td>\n",
       "      <td>45.657921</td>\n",
       "      <td>26.381214</td>\n",
       "    </tr>\n",
       "    <tr>\n",
       "      <th>2010-01-06</th>\n",
       "      <td>40.063042</td>\n",
       "      <td>N</td>\n",
       "      <td>4.789590</td>\n",
       "      <td>46.012665</td>\n",
       "      <td>26.364910</td>\n",
       "    </tr>\n",
       "    <tr>\n",
       "      <th>2010-01-07</th>\n",
       "      <td>40.538315</td>\n",
       "      <td>N</td>\n",
       "      <td>4.698472</td>\n",
       "      <td>45.483131</td>\n",
       "      <td>26.919188</td>\n",
       "    </tr>\n",
       "    <tr>\n",
       "      <th>2010-01-08</th>\n",
       "      <td>40.794235</td>\n",
       "      <td>N</td>\n",
       "      <td>4.724171</td>\n",
       "      <td>45.236355</td>\n",
       "      <td>26.646120</td>\n",
       "    </tr>\n",
       "    <tr>\n",
       "      <th>...</th>\n",
       "      <td>...</td>\n",
       "      <td>...</td>\n",
       "      <td>...</td>\n",
       "      <td>...</td>\n",
       "      <td>...</td>\n",
       "    </tr>\n",
       "    <tr>\n",
       "      <th>2023-06-26</th>\n",
       "      <td>156.854762</td>\n",
       "      <td>Y</td>\n",
       "      <td>19.552452</td>\n",
       "      <td>209.103934</td>\n",
       "      <td>152.969407</td>\n",
       "    </tr>\n",
       "    <tr>\n",
       "      <th>2023-06-27</th>\n",
       "      <td>155.357408</td>\n",
       "      <td>Y</td>\n",
       "      <td>19.690342</td>\n",
       "      <td>209.153900</td>\n",
       "      <td>152.619483</td>\n",
       "    </tr>\n",
       "    <tr>\n",
       "      <th>2023-06-28</th>\n",
       "      <td>157.433741</td>\n",
       "      <td>Y</td>\n",
       "      <td>19.900178</td>\n",
       "      <td>211.252364</td>\n",
       "      <td>147.220505</td>\n",
       "    </tr>\n",
       "    <tr>\n",
       "      <th>2023-06-29</th>\n",
       "      <td>152.602280</td>\n",
       "      <td>Y</td>\n",
       "      <td>20.024081</td>\n",
       "      <td>211.602098</td>\n",
       "      <td>150.519878</td>\n",
       "    </tr>\n",
       "    <tr>\n",
       "      <th>2023-06-30</th>\n",
       "      <td>150.466055</td>\n",
       "      <td>Y</td>\n",
       "      <td>19.924160</td>\n",
       "      <td>211.002548</td>\n",
       "      <td>149.620056</td>\n",
       "    </tr>\n",
       "  </tbody>\n",
       "</table>\n",
       "<p>3449 rows × 5 columns</p>\n",
       "</div>"
      ],
      "text/plain": [
       "                   SIE Forecasted        DTE         ALV         MRK\n",
       "Date                                                                \n",
       "2010-01-04   39.892437          N   4.953136   45.519119   26.576839\n",
       "2010-01-05   39.916805          N   4.911083   45.657921   26.381214\n",
       "2010-01-06   40.063042          N   4.789590   46.012665   26.364910\n",
       "2010-01-07   40.538315          N   4.698472   45.483131   26.919188\n",
       "2010-01-08   40.794235          N   4.724171   45.236355   26.646120\n",
       "...                ...        ...        ...         ...         ...\n",
       "2023-06-26  156.854762          Y  19.552452  209.103934  152.969407\n",
       "2023-06-27  155.357408          Y  19.690342  209.153900  152.619483\n",
       "2023-06-28  157.433741          Y  19.900178  211.252364  147.220505\n",
       "2023-06-29  152.602280          Y  20.024081  211.602098  150.519878\n",
       "2023-06-30  150.466055          Y  19.924160  211.002548  149.620056\n",
       "\n",
       "[3449 rows x 5 columns]"
      ]
     },
     "execution_count": 70,
     "metadata": {},
     "output_type": "execute_result"
    }
   ],
   "source": [
    "# Extract actual data from MRK\n",
    "tem1 = MRK_base['Close'].tolist()[:len(MRK_base)-695]\n",
    "# Extract forecasted date from above result\n",
    "tem2 = MRK_test['Predicted_Close'].tolist()\n",
    "# Combine them to a list\n",
    "tem3 = tem1 + tem2\n",
    "# Create a column from the resulted list\n",
    "result1['MRK'] = tem3\n",
    "result1"
   ]
  },
  {
   "cell_type": "markdown",
   "metadata": {},
   "source": [
    "# Deutsche Post 1 Features"
   ]
  },
  {
   "cell_type": "code",
   "execution_count": 71,
   "metadata": {},
   "outputs": [
    {
     "data": {
      "text/html": [
       "<div>\n",
       "<style scoped>\n",
       "    .dataframe tbody tr th:only-of-type {\n",
       "        vertical-align: middle;\n",
       "    }\n",
       "\n",
       "    .dataframe tbody tr th {\n",
       "        vertical-align: top;\n",
       "    }\n",
       "\n",
       "    .dataframe thead th {\n",
       "        text-align: right;\n",
       "    }\n",
       "</style>\n",
       "<table border=\"1\" class=\"dataframe\">\n",
       "  <thead>\n",
       "    <tr style=\"text-align: right;\">\n",
       "      <th></th>\n",
       "      <th>Close</th>\n",
       "      <th>pe-ratio</th>\n",
       "      <th>pb-ratio</th>\n",
       "      <th>Target</th>\n",
       "    </tr>\n",
       "    <tr>\n",
       "      <th>Date</th>\n",
       "      <th></th>\n",
       "      <th></th>\n",
       "      <th></th>\n",
       "      <th></th>\n",
       "    </tr>\n",
       "  </thead>\n",
       "  <tbody>\n",
       "    <tr>\n",
       "      <th>2010-01-04</th>\n",
       "      <td>13.980000</td>\n",
       "      <td>25.443396</td>\n",
       "      <td>1.970697</td>\n",
       "      <td>14.000</td>\n",
       "    </tr>\n",
       "    <tr>\n",
       "      <th>2010-01-05</th>\n",
       "      <td>14.000000</td>\n",
       "      <td>25.443396</td>\n",
       "      <td>1.970697</td>\n",
       "      <td>14.155</td>\n",
       "    </tr>\n",
       "    <tr>\n",
       "      <th>2010-01-06</th>\n",
       "      <td>14.155000</td>\n",
       "      <td>25.443396</td>\n",
       "      <td>1.970697</td>\n",
       "      <td>14.125</td>\n",
       "    </tr>\n",
       "    <tr>\n",
       "      <th>2010-01-07</th>\n",
       "      <td>14.125000</td>\n",
       "      <td>25.443396</td>\n",
       "      <td>1.970697</td>\n",
       "      <td>14.460</td>\n",
       "    </tr>\n",
       "    <tr>\n",
       "      <th>2010-01-08</th>\n",
       "      <td>14.460000</td>\n",
       "      <td>25.443396</td>\n",
       "      <td>1.970697</td>\n",
       "      <td>14.380</td>\n",
       "    </tr>\n",
       "    <tr>\n",
       "      <th>...</th>\n",
       "      <td>...</td>\n",
       "      <td>...</td>\n",
       "      <td>...</td>\n",
       "      <td>...</td>\n",
       "    </tr>\n",
       "    <tr>\n",
       "      <th>2023-06-23</th>\n",
       "      <td>43.189999</td>\n",
       "      <td>10.613300</td>\n",
       "      <td>1.588590</td>\n",
       "      <td>43.000</td>\n",
       "    </tr>\n",
       "    <tr>\n",
       "      <th>2023-06-26</th>\n",
       "      <td>43.000000</td>\n",
       "      <td>10.613300</td>\n",
       "      <td>1.588590</td>\n",
       "      <td>43.500</td>\n",
       "    </tr>\n",
       "    <tr>\n",
       "      <th>2023-06-27</th>\n",
       "      <td>43.500000</td>\n",
       "      <td>10.613300</td>\n",
       "      <td>1.588590</td>\n",
       "      <td>44.305</td>\n",
       "    </tr>\n",
       "    <tr>\n",
       "      <th>2023-06-28</th>\n",
       "      <td>44.305000</td>\n",
       "      <td>10.613300</td>\n",
       "      <td>1.588590</td>\n",
       "      <td>44.195</td>\n",
       "    </tr>\n",
       "    <tr>\n",
       "      <th>2023-06-29</th>\n",
       "      <td>44.195000</td>\n",
       "      <td>10.613300</td>\n",
       "      <td>1.588590</td>\n",
       "      <td>44.730</td>\n",
       "    </tr>\n",
       "  </tbody>\n",
       "</table>\n",
       "<p>3440 rows × 4 columns</p>\n",
       "</div>"
      ],
      "text/plain": [
       "                Close   pe-ratio  pb-ratio  Target\n",
       "Date                                              \n",
       "2010-01-04  13.980000  25.443396  1.970697  14.000\n",
       "2010-01-05  14.000000  25.443396  1.970697  14.155\n",
       "2010-01-06  14.155000  25.443396  1.970697  14.125\n",
       "2010-01-07  14.125000  25.443396  1.970697  14.460\n",
       "2010-01-08  14.460000  25.443396  1.970697  14.380\n",
       "...               ...        ...       ...     ...\n",
       "2023-06-23  43.189999  10.613300  1.588590  43.000\n",
       "2023-06-26  43.000000  10.613300  1.588590  43.500\n",
       "2023-06-27  43.500000  10.613300  1.588590  44.305\n",
       "2023-06-28  44.305000  10.613300  1.588590  44.195\n",
       "2023-06-29  44.195000  10.613300  1.588590  44.730\n",
       "\n",
       "[3440 rows x 4 columns]"
      ]
     },
     "execution_count": 71,
     "metadata": {},
     "output_type": "execute_result"
    }
   ],
   "source": [
    "#Set next day value as target \n",
    "DHL['Target'] = DHL.Close.shift(-1)\n",
    "DHL.dropna(inplace=True)\n",
    "DHL"
   ]
  },
  {
   "cell_type": "code",
   "execution_count": 72,
   "metadata": {},
   "outputs": [],
   "source": [
    "#split train and test data\n",
    "DHL_train = DHL.loc[:end_date]\n",
    "DHL_test = DHL.loc[test_start_date:]"
   ]
  },
  {
   "cell_type": "code",
   "execution_count": 73,
   "metadata": {},
   "outputs": [
    {
     "data": {
      "text/plain": [
       "True"
      ]
     },
     "execution_count": 73,
     "metadata": {},
     "output_type": "execute_result"
    }
   ],
   "source": [
    "# Reconcile length of data set and subsets\n",
    "DHL.shape[0] == DHL_train.shape[0] + DHL_test.shape[0]"
   ]
  },
  {
   "cell_type": "code",
   "execution_count": 74,
   "metadata": {},
   "outputs": [],
   "source": [
    "#set variables for regression\n",
    "DHL_X_train = DHL_train[['Close']]\n",
    "DHL_y_train = DHL_train['Target']\n",
    "DHL_X_test = DHL_test[['Close']]\n",
    "DHL_y_test = DHL_test['Target']"
   ]
  },
  {
   "cell_type": "code",
   "execution_count": 75,
   "metadata": {},
   "outputs": [],
   "source": [
    "#creating regressor model\n",
    "model5 = LinearRegression()"
   ]
  },
  {
   "cell_type": "code",
   "execution_count": 76,
   "metadata": {},
   "outputs": [],
   "source": [
    "# fit liner regression model\n",
    "model5 = model5.fit(DHL_X_train, DHL_y_train)"
   ]
  },
  {
   "cell_type": "code",
   "execution_count": 77,
   "metadata": {},
   "outputs": [
    {
     "data": {
      "text/plain": [
       "0.997957355894686"
      ]
     },
     "execution_count": 77,
     "metadata": {},
     "output_type": "execute_result"
    }
   ],
   "source": [
    "model5.score(DHL_X_train, DHL_y_train)"
   ]
  },
  {
   "cell_type": "code",
   "execution_count": 78,
   "metadata": {},
   "outputs": [
    {
     "data": {
      "text/plain": [
       "array([0.99947111])"
      ]
     },
     "execution_count": 78,
     "metadata": {},
     "output_type": "execute_result"
    }
   ],
   "source": [
    "model5.coef_"
   ]
  },
  {
   "cell_type": "code",
   "execution_count": 79,
   "metadata": {},
   "outputs": [
    {
     "data": {
      "text/plain": [
       "0.022585124799931577"
      ]
     },
     "execution_count": 79,
     "metadata": {},
     "output_type": "execute_result"
    }
   ],
   "source": [
    "model5.intercept_"
   ]
  },
  {
   "cell_type": "code",
   "execution_count": 80,
   "metadata": {},
   "outputs": [],
   "source": [
    "DHL_test['Predicted_Close'] = model5.predict(DHL_X_test)"
   ]
  },
  {
   "cell_type": "code",
   "execution_count": 81,
   "metadata": {},
   "outputs": [
    {
     "data": {
      "text/html": [
       "<div>\n",
       "<style scoped>\n",
       "    .dataframe tbody tr th:only-of-type {\n",
       "        vertical-align: middle;\n",
       "    }\n",
       "\n",
       "    .dataframe tbody tr th {\n",
       "        vertical-align: top;\n",
       "    }\n",
       "\n",
       "    .dataframe thead th {\n",
       "        text-align: right;\n",
       "    }\n",
       "</style>\n",
       "<table border=\"1\" class=\"dataframe\">\n",
       "  <thead>\n",
       "    <tr style=\"text-align: right;\">\n",
       "      <th></th>\n",
       "      <th>Close</th>\n",
       "      <th>pe-ratio</th>\n",
       "      <th>pb-ratio</th>\n",
       "      <th>Target</th>\n",
       "      <th>Predicted_Close</th>\n",
       "    </tr>\n",
       "    <tr>\n",
       "      <th>Date</th>\n",
       "      <th></th>\n",
       "      <th></th>\n",
       "      <th></th>\n",
       "      <th></th>\n",
       "      <th></th>\n",
       "    </tr>\n",
       "  </thead>\n",
       "  <tbody>\n",
       "    <tr>\n",
       "      <th>2020-10-08</th>\n",
       "      <td>40.970001</td>\n",
       "      <td>18.933283</td>\n",
       "      <td>3.600308</td>\n",
       "      <td>41.279999</td>\n",
       "      <td>40.970918</td>\n",
       "    </tr>\n",
       "    <tr>\n",
       "      <th>2020-10-09</th>\n",
       "      <td>41.279999</td>\n",
       "      <td>18.933283</td>\n",
       "      <td>3.600308</td>\n",
       "      <td>41.299999</td>\n",
       "      <td>41.280751</td>\n",
       "    </tr>\n",
       "    <tr>\n",
       "      <th>2020-10-12</th>\n",
       "      <td>41.299999</td>\n",
       "      <td>18.933283</td>\n",
       "      <td>3.600308</td>\n",
       "      <td>41.470001</td>\n",
       "      <td>41.300741</td>\n",
       "    </tr>\n",
       "    <tr>\n",
       "      <th>2020-10-13</th>\n",
       "      <td>41.470001</td>\n",
       "      <td>18.933283</td>\n",
       "      <td>3.600308</td>\n",
       "      <td>41.950001</td>\n",
       "      <td>41.470653</td>\n",
       "    </tr>\n",
       "    <tr>\n",
       "      <th>2020-10-14</th>\n",
       "      <td>41.950001</td>\n",
       "      <td>18.933283</td>\n",
       "      <td>3.600308</td>\n",
       "      <td>40.709999</td>\n",
       "      <td>41.950399</td>\n",
       "    </tr>\n",
       "    <tr>\n",
       "      <th>...</th>\n",
       "      <td>...</td>\n",
       "      <td>...</td>\n",
       "      <td>...</td>\n",
       "      <td>...</td>\n",
       "      <td>...</td>\n",
       "    </tr>\n",
       "    <tr>\n",
       "      <th>2023-06-23</th>\n",
       "      <td>43.189999</td>\n",
       "      <td>10.613300</td>\n",
       "      <td>1.588590</td>\n",
       "      <td>43.000000</td>\n",
       "      <td>43.189741</td>\n",
       "    </tr>\n",
       "    <tr>\n",
       "      <th>2023-06-26</th>\n",
       "      <td>43.000000</td>\n",
       "      <td>10.613300</td>\n",
       "      <td>1.588590</td>\n",
       "      <td>43.500000</td>\n",
       "      <td>42.999843</td>\n",
       "    </tr>\n",
       "    <tr>\n",
       "      <th>2023-06-27</th>\n",
       "      <td>43.500000</td>\n",
       "      <td>10.613300</td>\n",
       "      <td>1.588590</td>\n",
       "      <td>44.305000</td>\n",
       "      <td>43.499578</td>\n",
       "    </tr>\n",
       "    <tr>\n",
       "      <th>2023-06-28</th>\n",
       "      <td>44.305000</td>\n",
       "      <td>10.613300</td>\n",
       "      <td>1.588590</td>\n",
       "      <td>44.195000</td>\n",
       "      <td>44.304153</td>\n",
       "    </tr>\n",
       "    <tr>\n",
       "      <th>2023-06-29</th>\n",
       "      <td>44.195000</td>\n",
       "      <td>10.613300</td>\n",
       "      <td>1.588590</td>\n",
       "      <td>44.730000</td>\n",
       "      <td>44.194210</td>\n",
       "    </tr>\n",
       "  </tbody>\n",
       "</table>\n",
       "<p>697 rows × 5 columns</p>\n",
       "</div>"
      ],
      "text/plain": [
       "                Close   pe-ratio  pb-ratio     Target  Predicted_Close\n",
       "Date                                                                  \n",
       "2020-10-08  40.970001  18.933283  3.600308  41.279999        40.970918\n",
       "2020-10-09  41.279999  18.933283  3.600308  41.299999        41.280751\n",
       "2020-10-12  41.299999  18.933283  3.600308  41.470001        41.300741\n",
       "2020-10-13  41.470001  18.933283  3.600308  41.950001        41.470653\n",
       "2020-10-14  41.950001  18.933283  3.600308  40.709999        41.950399\n",
       "...               ...        ...       ...        ...              ...\n",
       "2023-06-23  43.189999  10.613300  1.588590  43.000000        43.189741\n",
       "2023-06-26  43.000000  10.613300  1.588590  43.500000        42.999843\n",
       "2023-06-27  43.500000  10.613300  1.588590  44.305000        43.499578\n",
       "2023-06-28  44.305000  10.613300  1.588590  44.195000        44.304153\n",
       "2023-06-29  44.195000  10.613300  1.588590  44.730000        44.194210\n",
       "\n",
       "[697 rows x 5 columns]"
      ]
     },
     "execution_count": 81,
     "metadata": {},
     "output_type": "execute_result"
    }
   ],
   "source": [
    "DHL_test"
   ]
  },
  {
   "cell_type": "code",
   "execution_count": 82,
   "metadata": {},
   "outputs": [
    {
     "data": {
      "text/plain": [
       "697"
      ]
     },
     "execution_count": 82,
     "metadata": {},
     "output_type": "execute_result"
    }
   ],
   "source": [
    "len(DHL_y_test)"
   ]
  },
  {
   "cell_type": "code",
   "execution_count": 83,
   "metadata": {},
   "outputs": [],
   "source": [
    "#again return to previous shape\n",
    "DHL_y_test = np.array(DHL_test['Target'])"
   ]
  },
  {
   "cell_type": "code",
   "execution_count": 84,
   "metadata": {},
   "outputs": [
    {
     "name": "stdout",
     "output_type": "stream",
     "text": [
      "Root Mean Squared Error (RMSE): 0.7739658350877358\n",
      "Mean Absolute Percentage Error (MAPE): 0.013201117390826135\n"
     ]
    }
   ],
   "source": [
    "#checking mse and rmse \n",
    "DHL_mse = mean_squared_error(DHL_test['Target'], DHL_test['Predicted_Close'])\n",
    "DHL_rmse = m.sqrt(DHL_mse)\n",
    "DHL_mape = np.mean(np.abs(DHL_test['Predicted_Close'] - DHL_y_test)/np.abs(DHL_y_test))\n",
    "\n",
    "print(f'Root Mean Squared Error (RMSE): {DHL_rmse}')\n",
    "print(f'Mean Absolute Percentage Error (MAPE): {DHL_mape}')"
   ]
  },
  {
   "cell_type": "code",
   "execution_count": 85,
   "metadata": {},
   "outputs": [
    {
     "data": {
      "text/plain": [
       "<matplotlib.legend.Legend at 0x1bd6150c2b0>"
      ]
     },
     "execution_count": 85,
     "metadata": {},
     "output_type": "execute_result"
    },
    {
     "data": {
      "image/png": "[encoded data removed]",
      "text/plain": [
       "<Figure size 1440x360 with 1 Axes>"
      ]
     },
     "metadata": {
      "needs_background": "light"
     },
     "output_type": "display_data"
    }
   ],
   "source": [
    "#plotting predicted data\n",
    "plt.figure(figsize=(20, 5))\n",
    "plt.plot(DHL_test['Target'], label = 'True Closing Price')\n",
    "plt.plot(DHL_test['Predicted_Close'], label = 'Predictions')\n",
    "plt.xlabel('Time')\n",
    "plt.ylabel('Closing Price')\n",
    "plt.legend(labels = ['True Closing Price', 'Predictions'])"
   ]
  },
  {
   "cell_type": "code",
   "execution_count": 86,
   "metadata": {},
   "outputs": [
    {
     "data": {
      "text/html": [
       "<div>\n",
       "<style scoped>\n",
       "    .dataframe tbody tr th:only-of-type {\n",
       "        vertical-align: middle;\n",
       "    }\n",
       "\n",
       "    .dataframe tbody tr th {\n",
       "        vertical-align: top;\n",
       "    }\n",
       "\n",
       "    .dataframe thead th {\n",
       "        text-align: right;\n",
       "    }\n",
       "</style>\n",
       "<table border=\"1\" class=\"dataframe\">\n",
       "  <thead>\n",
       "    <tr style=\"text-align: right;\">\n",
       "      <th></th>\n",
       "      <th>SIE</th>\n",
       "      <th>Forecasted</th>\n",
       "      <th>DTE</th>\n",
       "      <th>ALV</th>\n",
       "      <th>MRK</th>\n",
       "      <th>DHL</th>\n",
       "    </tr>\n",
       "    <tr>\n",
       "      <th>Date</th>\n",
       "      <th></th>\n",
       "      <th></th>\n",
       "      <th></th>\n",
       "      <th></th>\n",
       "      <th></th>\n",
       "      <th></th>\n",
       "    </tr>\n",
       "  </thead>\n",
       "  <tbody>\n",
       "    <tr>\n",
       "      <th>2010-01-04</th>\n",
       "      <td>39.892437</td>\n",
       "      <td>N</td>\n",
       "      <td>4.953136</td>\n",
       "      <td>45.519119</td>\n",
       "      <td>26.576839</td>\n",
       "      <td>13.980000</td>\n",
       "    </tr>\n",
       "    <tr>\n",
       "      <th>2010-01-05</th>\n",
       "      <td>39.916805</td>\n",
       "      <td>N</td>\n",
       "      <td>4.911083</td>\n",
       "      <td>45.657921</td>\n",
       "      <td>26.381214</td>\n",
       "      <td>14.000000</td>\n",
       "    </tr>\n",
       "    <tr>\n",
       "      <th>2010-01-06</th>\n",
       "      <td>40.063042</td>\n",
       "      <td>N</td>\n",
       "      <td>4.789590</td>\n",
       "      <td>46.012665</td>\n",
       "      <td>26.364910</td>\n",
       "      <td>14.155000</td>\n",
       "    </tr>\n",
       "    <tr>\n",
       "      <th>2010-01-07</th>\n",
       "      <td>40.538315</td>\n",
       "      <td>N</td>\n",
       "      <td>4.698472</td>\n",
       "      <td>45.483131</td>\n",
       "      <td>26.919188</td>\n",
       "      <td>14.125000</td>\n",
       "    </tr>\n",
       "    <tr>\n",
       "      <th>2010-01-08</th>\n",
       "      <td>40.794235</td>\n",
       "      <td>N</td>\n",
       "      <td>4.724171</td>\n",
       "      <td>45.236355</td>\n",
       "      <td>26.646120</td>\n",
       "      <td>14.460000</td>\n",
       "    </tr>\n",
       "    <tr>\n",
       "      <th>...</th>\n",
       "      <td>...</td>\n",
       "      <td>...</td>\n",
       "      <td>...</td>\n",
       "      <td>...</td>\n",
       "      <td>...</td>\n",
       "      <td>...</td>\n",
       "    </tr>\n",
       "    <tr>\n",
       "      <th>2023-06-26</th>\n",
       "      <td>156.854762</td>\n",
       "      <td>Y</td>\n",
       "      <td>19.552452</td>\n",
       "      <td>209.103934</td>\n",
       "      <td>152.969407</td>\n",
       "      <td>43.189741</td>\n",
       "    </tr>\n",
       "    <tr>\n",
       "      <th>2023-06-27</th>\n",
       "      <td>155.357408</td>\n",
       "      <td>Y</td>\n",
       "      <td>19.690342</td>\n",
       "      <td>209.153900</td>\n",
       "      <td>152.619483</td>\n",
       "      <td>42.999843</td>\n",
       "    </tr>\n",
       "    <tr>\n",
       "      <th>2023-06-28</th>\n",
       "      <td>157.433741</td>\n",
       "      <td>Y</td>\n",
       "      <td>19.900178</td>\n",
       "      <td>211.252364</td>\n",
       "      <td>147.220505</td>\n",
       "      <td>43.499578</td>\n",
       "    </tr>\n",
       "    <tr>\n",
       "      <th>2023-06-29</th>\n",
       "      <td>152.602280</td>\n",
       "      <td>Y</td>\n",
       "      <td>20.024081</td>\n",
       "      <td>211.602098</td>\n",
       "      <td>150.519878</td>\n",
       "      <td>44.304153</td>\n",
       "    </tr>\n",
       "    <tr>\n",
       "      <th>2023-06-30</th>\n",
       "      <td>150.466055</td>\n",
       "      <td>Y</td>\n",
       "      <td>19.924160</td>\n",
       "      <td>211.002548</td>\n",
       "      <td>149.620056</td>\n",
       "      <td>44.194210</td>\n",
       "    </tr>\n",
       "  </tbody>\n",
       "</table>\n",
       "<p>3449 rows × 6 columns</p>\n",
       "</div>"
      ],
      "text/plain": [
       "                   SIE Forecasted        DTE         ALV         MRK  \\\n",
       "Date                                                                   \n",
       "2010-01-04   39.892437          N   4.953136   45.519119   26.576839   \n",
       "2010-01-05   39.916805          N   4.911083   45.657921   26.381214   \n",
       "2010-01-06   40.063042          N   4.789590   46.012665   26.364910   \n",
       "2010-01-07   40.538315          N   4.698472   45.483131   26.919188   \n",
       "2010-01-08   40.794235          N   4.724171   45.236355   26.646120   \n",
       "...                ...        ...        ...         ...         ...   \n",
       "2023-06-26  156.854762          Y  19.552452  209.103934  152.969407   \n",
       "2023-06-27  155.357408          Y  19.690342  209.153900  152.619483   \n",
       "2023-06-28  157.433741          Y  19.900178  211.252364  147.220505   \n",
       "2023-06-29  152.602280          Y  20.024081  211.602098  150.519878   \n",
       "2023-06-30  150.466055          Y  19.924160  211.002548  149.620056   \n",
       "\n",
       "                  DHL  \n",
       "Date                   \n",
       "2010-01-04  13.980000  \n",
       "2010-01-05  14.000000  \n",
       "2010-01-06  14.155000  \n",
       "2010-01-07  14.125000  \n",
       "2010-01-08  14.460000  \n",
       "...               ...  \n",
       "2023-06-26  43.189741  \n",
       "2023-06-27  42.999843  \n",
       "2023-06-28  43.499578  \n",
       "2023-06-29  44.304153  \n",
       "2023-06-30  44.194210  \n",
       "\n",
       "[3449 rows x 6 columns]"
      ]
     },
     "execution_count": 86,
     "metadata": {},
     "output_type": "execute_result"
    }
   ],
   "source": [
    "# Extract actual data from DHL\n",
    "tem1 = DHL_base['Close'].tolist()[:len(DHL_base)+8-697]\n",
    "# Extract forecasted date from above result\n",
    "tem2 = DHL_test['Predicted_Close'].tolist()\n",
    "# Combine them to a list\n",
    "tem3 = tem1 + tem2\n",
    "# Create a column from the resulted list\n",
    "result1['DHL'] = tem3\n",
    "result1"
   ]
  },
  {
   "cell_type": "code",
   "execution_count": 87,
   "metadata": {},
   "outputs": [
    {
     "data": {
      "text/html": [
       "<div>\n",
       "<style scoped>\n",
       "    .dataframe tbody tr th:only-of-type {\n",
       "        vertical-align: middle;\n",
       "    }\n",
       "\n",
       "    .dataframe tbody tr th {\n",
       "        vertical-align: top;\n",
       "    }\n",
       "\n",
       "    .dataframe thead th {\n",
       "        text-align: right;\n",
       "    }\n",
       "</style>\n",
       "<table border=\"1\" class=\"dataframe\">\n",
       "  <thead>\n",
       "    <tr style=\"text-align: right;\">\n",
       "      <th></th>\n",
       "      <th>SIE</th>\n",
       "      <th>DTE</th>\n",
       "      <th>ALV</th>\n",
       "      <th>MRK</th>\n",
       "      <th>DHL</th>\n",
       "      <th>Forecasted</th>\n",
       "    </tr>\n",
       "    <tr>\n",
       "      <th>Date</th>\n",
       "      <th></th>\n",
       "      <th></th>\n",
       "      <th></th>\n",
       "      <th></th>\n",
       "      <th></th>\n",
       "      <th></th>\n",
       "    </tr>\n",
       "  </thead>\n",
       "  <tbody>\n",
       "    <tr>\n",
       "      <th>2010-01-04</th>\n",
       "      <td>39.892437</td>\n",
       "      <td>4.953136</td>\n",
       "      <td>45.519119</td>\n",
       "      <td>26.576839</td>\n",
       "      <td>13.980000</td>\n",
       "      <td>N</td>\n",
       "    </tr>\n",
       "    <tr>\n",
       "      <th>2010-01-05</th>\n",
       "      <td>39.916805</td>\n",
       "      <td>4.911083</td>\n",
       "      <td>45.657921</td>\n",
       "      <td>26.381214</td>\n",
       "      <td>14.000000</td>\n",
       "      <td>N</td>\n",
       "    </tr>\n",
       "    <tr>\n",
       "      <th>2010-01-06</th>\n",
       "      <td>40.063042</td>\n",
       "      <td>4.789590</td>\n",
       "      <td>46.012665</td>\n",
       "      <td>26.364910</td>\n",
       "      <td>14.155000</td>\n",
       "      <td>N</td>\n",
       "    </tr>\n",
       "    <tr>\n",
       "      <th>2010-01-07</th>\n",
       "      <td>40.538315</td>\n",
       "      <td>4.698472</td>\n",
       "      <td>45.483131</td>\n",
       "      <td>26.919188</td>\n",
       "      <td>14.125000</td>\n",
       "      <td>N</td>\n",
       "    </tr>\n",
       "    <tr>\n",
       "      <th>2010-01-08</th>\n",
       "      <td>40.794235</td>\n",
       "      <td>4.724171</td>\n",
       "      <td>45.236355</td>\n",
       "      <td>26.646120</td>\n",
       "      <td>14.460000</td>\n",
       "      <td>N</td>\n",
       "    </tr>\n",
       "    <tr>\n",
       "      <th>...</th>\n",
       "      <td>...</td>\n",
       "      <td>...</td>\n",
       "      <td>...</td>\n",
       "      <td>...</td>\n",
       "      <td>...</td>\n",
       "      <td>...</td>\n",
       "    </tr>\n",
       "    <tr>\n",
       "      <th>2023-06-26</th>\n",
       "      <td>156.854762</td>\n",
       "      <td>19.552452</td>\n",
       "      <td>209.103934</td>\n",
       "      <td>152.969407</td>\n",
       "      <td>43.189741</td>\n",
       "      <td>Y</td>\n",
       "    </tr>\n",
       "    <tr>\n",
       "      <th>2023-06-27</th>\n",
       "      <td>155.357408</td>\n",
       "      <td>19.690342</td>\n",
       "      <td>209.153900</td>\n",
       "      <td>152.619483</td>\n",
       "      <td>42.999843</td>\n",
       "      <td>Y</td>\n",
       "    </tr>\n",
       "    <tr>\n",
       "      <th>2023-06-28</th>\n",
       "      <td>157.433741</td>\n",
       "      <td>19.900178</td>\n",
       "      <td>211.252364</td>\n",
       "      <td>147.220505</td>\n",
       "      <td>43.499578</td>\n",
       "      <td>Y</td>\n",
       "    </tr>\n",
       "    <tr>\n",
       "      <th>2023-06-29</th>\n",
       "      <td>152.602280</td>\n",
       "      <td>20.024081</td>\n",
       "      <td>211.602098</td>\n",
       "      <td>150.519878</td>\n",
       "      <td>44.304153</td>\n",
       "      <td>Y</td>\n",
       "    </tr>\n",
       "    <tr>\n",
       "      <th>2023-06-30</th>\n",
       "      <td>150.466055</td>\n",
       "      <td>19.924160</td>\n",
       "      <td>211.002548</td>\n",
       "      <td>149.620056</td>\n",
       "      <td>44.194210</td>\n",
       "      <td>Y</td>\n",
       "    </tr>\n",
       "  </tbody>\n",
       "</table>\n",
       "<p>3449 rows × 6 columns</p>\n",
       "</div>"
      ],
      "text/plain": [
       "                   SIE        DTE         ALV         MRK        DHL  \\\n",
       "Date                                                                   \n",
       "2010-01-04   39.892437   4.953136   45.519119   26.576839  13.980000   \n",
       "2010-01-05   39.916805   4.911083   45.657921   26.381214  14.000000   \n",
       "2010-01-06   40.063042   4.789590   46.012665   26.364910  14.155000   \n",
       "2010-01-07   40.538315   4.698472   45.483131   26.919188  14.125000   \n",
       "2010-01-08   40.794235   4.724171   45.236355   26.646120  14.460000   \n",
       "...                ...        ...         ...         ...        ...   \n",
       "2023-06-26  156.854762  19.552452  209.103934  152.969407  43.189741   \n",
       "2023-06-27  155.357408  19.690342  209.153900  152.619483  42.999843   \n",
       "2023-06-28  157.433741  19.900178  211.252364  147.220505  43.499578   \n",
       "2023-06-29  152.602280  20.024081  211.602098  150.519878  44.304153   \n",
       "2023-06-30  150.466055  19.924160  211.002548  149.620056  44.194210   \n",
       "\n",
       "           Forecasted  \n",
       "Date                   \n",
       "2010-01-04          N  \n",
       "2010-01-05          N  \n",
       "2010-01-06          N  \n",
       "2010-01-07          N  \n",
       "2010-01-08          N  \n",
       "...               ...  \n",
       "2023-06-26          Y  \n",
       "2023-06-27          Y  \n",
       "2023-06-28          Y  \n",
       "2023-06-29          Y  \n",
       "2023-06-30          Y  \n",
       "\n",
       "[3449 rows x 6 columns]"
      ]
     },
     "execution_count": 87,
     "metadata": {},
     "output_type": "execute_result"
    }
   ],
   "source": [
    "# Define the desired column order\n",
    "desired_order = ['SIE', 'DTE', 'ALV', 'MRK', 'DHL', 'Forecasted']\n",
    "\n",
    "# Rearrange columns\n",
    "result = result1[desired_order]\n",
    "result"
   ]
  },
  {
   "cell_type": "code",
   "execution_count": 88,
   "metadata": {},
   "outputs": [],
   "source": [
    "#save forecased data in csv file\n",
    "result.to_csv('LR_1 feature.csv', index=True)"
   ]
  },
  {
   "cell_type": "markdown",
   "metadata": {},
   "source": [
    "# Bibliography\n",
    "\n",
    "-\tM, S. (2024). _PREDICTING-STOCK-PRICES-WITH-LINEAR-REGRESSION/Predicting Stock Prices with Linear Regression.ipynb at master · shashimanyam/PREDICTING-STOCK-PRICES-WITH-LINEAR-REGRESSION._ [online] GitHub. Available at: https://github.com/shashimanyam/PREDICTING-STOCK-PRICES-WITH-LINEAR-REGRESSION/blob/master/Predicting%20Stock%20Prices%20with%20Linear%20Regression.ipynb [Accessed 26 Feb. 2024].\n",
    "-\tTripathi, A. (2018). _Stock-Price-Prediction/Stock Price Prediction-using Linear Regression.ipynb at master · karasuno7/Stock-Price-Prediction._ [online] GitHub. Available at: https://github.com/karasuno7/Stock-Price-Prediction/blob/master/Stock%20Price%20Prediction-using%20Linear%20Regression.ipynb [Accessed 26 Feb. 2024]."
   ]
  },
  {
   "cell_type": "code",
   "execution_count": null,
   "metadata": {},
   "outputs": [],
   "source": []
  }
 ],
 "metadata": {
  "kernelspec": {
   "display_name": "Python 3 (ipykernel)",
   "language": "python",
   "name": "python3"
  },
  "language_info": {
   "codemirror_mode": {
    "name": "ipython",
    "version": 3
   },
   "file_extension": ".py",
   "mimetype": "text/x-python",
   "name": "python",
   "nbconvert_exporter": "python",
   "pygments_lexer": "ipython3",
   "version": "3.9.12"
  }
 },
 "nbformat": 4,
 "nbformat_minor": 2
}
